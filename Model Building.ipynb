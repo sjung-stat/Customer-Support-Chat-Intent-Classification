{
  "nbformat": 4,
  "nbformat_minor": 0,
  "metadata": {
    "colab": {
      "provenance": [],
      "authorship_tag": "ABX9TyP5cJm2Um6Av4YLxSO9/2Hr",
      "include_colab_link": true
    },
    "kernelspec": {
      "name": "python3",
      "display_name": "Python 3"
    },
    "language_info": {
      "name": "python"
    },
    "accelerator": "GPU",
    "gpuClass": "standard"
  },
  "cells": [
    {
      "cell_type": "markdown",
      "metadata": {
        "id": "view-in-github",
        "colab_type": "text"
      },
      "source": [
        "<a href=\"https://colab.research.google.com/github/sjung-stat/Customer-Support-Chat-Intent-Classification/blob/main/Model%20Building.ipynb\" target=\"_parent\"><img src=\"https://colab.research.google.com/assets/colab-badge.svg\" alt=\"Open In Colab\"/></a>"
      ]
    },
    {
      "cell_type": "markdown",
      "source": [
        "Before building a text classification model using BERT, we need to preprocess the dataset. First of all, we do one-hot encoding on our target variable. And after that, we use one of the companions of BERT models which is designed to work alongside BERT models, and its purpose is to transform unprocessed textual inputs into the appropriate input format required by BERT. More details can be found below."
      ],
      "metadata": {
        "id": "LVwJO1k3Qn0W"
      }
    },
    {
      "cell_type": "code",
      "source": [
        "# Import necessary libraries\n",
        "\n",
        "from google.colab import drive\n",
        "import pickle\n",
        "import pandas as pd\n",
        "import numpy as np\n",
        "from sklearn.utils import class_weight\n",
        "from sklearn.model_selection import train_test_split\n",
        "from sklearn.preprocessing import LabelBinarizer"
      ],
      "metadata": {
        "id": "ldQkLp1Sp5MS"
      },
      "execution_count": 1,
      "outputs": []
    },
    {
      "cell_type": "code",
      "source": [
        "# Load the preprocessed training and testing data\n",
        "drive.mount('/content/drive')\n",
        "\n",
        "with open('/content/drive/MyDrive/df_training_complete.pkl', 'rb') as f:   # Load `df_training_complete` from Google Drive\n",
        "    df_training_complete = pickle.load(f)\n",
        "\n",
        "with open('/content/drive/MyDrive/df_testing_copy.pkl', 'rb') as f:   # Load `df_testing_copy` from Google Drive\n",
        "    df_testing_complete = pickle.load(f)"
      ],
      "metadata": {
        "id": "hb5hqrr_oGd2",
        "colab": {
          "base_uri": "https://localhost:8080/"
        },
        "outputId": "cb18be8d-235d-4fa2-95bf-ffc0e5fa3436"
      },
      "execution_count": 2,
      "outputs": [
        {
          "output_type": "stream",
          "name": "stdout",
          "text": [
            "Mounted at /content/drive\n"
          ]
        }
      ]
    },
    {
      "cell_type": "markdown",
      "source": [
        "# Preprocessing"
      ],
      "metadata": {
        "id": "J1zqUDsqPNWB"
      }
    },
    {
      "cell_type": "markdown",
      "source": [
        "## One Hot Encoding"
      ],
      "metadata": {
        "id": "iR7r4DVISo3c"
      }
    },
    {
      "cell_type": "code",
      "source": [
        "# Split training and validation sets and reformat testing set. \n",
        "trainfeatures, validfeatures, trainlabels, validlabels = train_test_split(df_training_complete['text'],df_training_complete['category'], stratify=df_training_complete['category'], test_size=0.2)\n",
        "\n",
        "testfeatures=df_testing_complete.copy()\n",
        "testlabels=testfeatures.pop(\"category\")\n",
        "trainlabels_original= trainlabels.values\n",
        "\n",
        "\n",
        "# One-Hot-Encoding of class-labels\n",
        "binarizer=LabelBinarizer()  \n",
        "\n",
        "trainlabels=binarizer.fit_transform(trainlabels.values)\n",
        "validlabels=binarizer.transform(validlabels.values)\n",
        "testlabels=binarizer.transform(testlabels.values)\n",
        "trainfeatures = pd.DataFrame(trainfeatures)\n",
        "validfeatures = pd.DataFrame(validfeatures)"
      ],
      "metadata": {
        "id": "e6fmkh86oGgj"
      },
      "execution_count": 3,
      "outputs": []
    },
    {
      "cell_type": "code",
      "source": [
        "print(\"Total number of training examples: \", trainfeatures.shape[0])\n",
        "print(\"Total number of validation examples: \", validfeatures.shape[0])\n",
        "print(\"Total number of testing examples: \", testfeatures.shape[0])"
      ],
      "metadata": {
        "id": "pzs-VVOQoGjA",
        "colab": {
          "base_uri": "https://localhost:8080/"
        },
        "outputId": "6580484c-1516-4720-eef3-3cc66a912984"
      },
      "execution_count": 4,
      "outputs": [
        {
          "output_type": "stream",
          "name": "stdout",
          "text": [
            "Total number of training examples:  12733\n",
            "Total number of validation examples:  3184\n",
            "Total number of testing examples:  3080\n"
          ]
        }
      ]
    },
    {
      "cell_type": "code",
      "source": [
        "!pip install -q tensorflow_text"
      ],
      "metadata": {
        "id": "iogh2xqcoGqw",
        "colab": {
          "base_uri": "https://localhost:8080/"
        },
        "outputId": "ba2f417b-98c4-4f91-c481-e12730663bd6"
      },
      "execution_count": 5,
      "outputs": [
        {
          "output_type": "stream",
          "name": "stdout",
          "text": [
            "\u001b[?25l     \u001b[90m━━━━━━━━━━━━━━━━━━━━━━━━━━━━━━━━━━━━━━━━\u001b[0m \u001b[32m0.0/5.8 MB\u001b[0m \u001b[31m?\u001b[0m eta \u001b[36m-:--:--\u001b[0m\r\u001b[2K     \u001b[91m━\u001b[0m\u001b[90m╺\u001b[0m\u001b[90m━━━━━━━━━━━━━━━━━━━━━━━━━━━━━━━━━━━━━━\u001b[0m \u001b[32m0.2/5.8 MB\u001b[0m \u001b[31m5.7 MB/s\u001b[0m eta \u001b[36m0:00:01\u001b[0m\r\u001b[2K     \u001b[91m━━━━━━━━━━━━\u001b[0m\u001b[90m╺\u001b[0m\u001b[90m━━━━━━━━━━━━━━━━━━━━━━━━━━━\u001b[0m \u001b[32m1.8/5.8 MB\u001b[0m \u001b[31m26.1 MB/s\u001b[0m eta \u001b[36m0:00:01\u001b[0m\r\u001b[2K     \u001b[91m━━━━━━━━━━━━━━━━━━━━━━━━\u001b[0m\u001b[90m╺\u001b[0m\u001b[90m━━━━━━━━━━━━━━━\u001b[0m \u001b[32m3.6/5.8 MB\u001b[0m \u001b[31m36.0 MB/s\u001b[0m eta \u001b[36m0:00:01\u001b[0m\r\u001b[2K     \u001b[91m━━━━━━━━━━━━━━━━━━━━━━━━━━━━━━━━━\u001b[0m\u001b[90m╺\u001b[0m\u001b[90m━━━━━━\u001b[0m \u001b[32m4.8/5.8 MB\u001b[0m \u001b[31m35.0 MB/s\u001b[0m eta \u001b[36m0:00:01\u001b[0m\r\u001b[2K     \u001b[91m━━━━━━━━━━━━━━━━━━━━━━━━━━━━━━━━━━━━━━━\u001b[0m\u001b[91m╸\u001b[0m \u001b[32m5.8/5.8 MB\u001b[0m \u001b[31m38.4 MB/s\u001b[0m eta \u001b[36m0:00:01\u001b[0m\r\u001b[2K     \u001b[91m━━━━━━━━━━━━━━━━━━━━━━━━━━━━━━━━━━━━━━━\u001b[0m\u001b[91m╸\u001b[0m \u001b[32m5.8/5.8 MB\u001b[0m \u001b[31m38.4 MB/s\u001b[0m eta \u001b[36m0:00:01\u001b[0m\r\u001b[2K     \u001b[90m━━━━━━━━━━━━━━━━━━━━━━━━━━━━━━━━━━━━━━━━\u001b[0m \u001b[32m5.8/5.8 MB\u001b[0m \u001b[31m27.2 MB/s\u001b[0m eta \u001b[36m0:00:00\u001b[0m\n",
            "\u001b[?25h"
          ]
        }
      ]
    },
    {
      "cell_type": "code",
      "source": [
        "import tensorflow as tf\n",
        "import tensorflow_hub as hub\n",
        "import tensorflow_text as text\n",
        "from sklearn.preprocessing import LabelBinarizer\n",
        "import matplotlib.pyplot as plt"
      ],
      "metadata": {
        "id": "SYkZje5BoGtJ"
      },
      "execution_count": 6,
      "outputs": []
    },
    {
      "cell_type": "markdown",
      "source": [
        "\n",
        "\n",
        "---\n",
        "\n"
      ],
      "metadata": {
        "id": "N_fMoGNFNF_y"
      }
    },
    {
      "cell_type": "markdown",
      "source": [
        "# Model Building"
      ],
      "metadata": {
        "id": "7XEdmyl2Vsli"
      }
    },
    {
      "cell_type": "markdown",
      "source": [
        "For this intent classification project, we use BERT which is a pretrained language model. BERT is useful for intent classification because it is pre-trained on a large corpus of text data, allowing it to understand the nuances of natural language. Additionally, BERT uses a bidirectional approach, which means it can analyze a text input in both directions, allowing it to better understand the context and meaning of the input. By using BERT as a pre-processing step, you can improve the accuracy and efficiency of your intent classification model."
      ],
      "metadata": {
        "id": "sztDJsvFVzM9"
      }
    },
    {
      "cell_type": "markdown",
      "source": [
        "### Model 1"
      ],
      "metadata": {
        "id": "3cNQ3vfsNjIL"
      }
    },
    {
      "cell_type": "code",
      "source": [
        "# Note that the following preprocessing model cannot take pandas dataframe as input\n",
        "# Need to convert the input data (text) into list\n",
        "bert_preprocess = hub.KerasLayer(\"https://tfhub.dev/tensorflow/bert_en_uncased_preprocess/3\") # The text data we will be working with will undergo preprocessing using a TensorFlow model.\n",
        "                                                                                              # As this preprocessor is a TensorFlow model, it can be easily integrated directly into your own model.\n",
        "bert_model = hub.KerasLayer(\"https://tfhub.dev/tensorflow/small_bert/bert_en_uncased_L-8_H-512_A-8/1\")"
      ],
      "metadata": {
        "id": "tzk1kqUFoGwt",
        "colab": {
          "base_uri": "https://localhost:8080/"
        },
        "outputId": "a354a5c5-d335-4506-e083-2b791b21d5e8"
      },
      "execution_count": null,
      "outputs": [
        {
          "output_type": "stream",
          "name": "stderr",
          "text": [
            "WARNING:tensorflow:Please fix your imports. Module tensorflow.python.training.tracking.data_structures has been moved to tensorflow.python.trackable.data_structures. The old module will be deleted in version 2.11.\n"
          ]
        }
      ]
    },
    {
      "cell_type": "code",
      "source": [
        "# Define input layer\n",
        "input_text = tf.keras.layers.Input(shape=(), dtype=tf.string, name='text')   # define an input tensor --> the input data to the model will be a string of variable length\n",
        "\n",
        "# Preprocess input text\n",
        "text_preprocessed = bert_preprocess(input_text)                           # This layer converts the input string into a format that can be understood by the BERT model\n",
        "\n",
        "# Encode input text with BERT\n",
        "output_bert = bert_model(text_preprocessed)                               # This layer encodes the input text using the BERT model and returns the encoded outputs\n",
        "                                                                                # After that, this will be fed into the neural network layers.\n",
        "\n",
        "# Get sequence output\n",
        "sequence_output = output_bert['sequence_output']\n",
        "\n",
        "# Apply average pooling over sequence output\n",
        "avg_pooling = tf.keras.layers.GlobalAveragePooling1D()(sequence_output)\n",
        "\n",
        "# Concatenate max pooled output and pooled output\n",
        "concatenated_avg_pooling = tf.keras.layers.Concatenate()([avg_pooling, output_bert['pooled_output']])\n",
        "\n",
        "# Apply dense layers to concatenated output\n",
        "dense_1_avg_pooling = tf.keras.layers.Dense(512, activation='relu')(concatenated_avg_pooling)\n",
        "dense_2_avg_pooling = tf.keras.layers.Dense(256, activation='relu')(dense_1_avg_pooling)\n",
        "dense_3_avg_pooling = tf.keras.layers.Dense(128, activation='relu')(dense_2_avg_pooling)\n",
        "dense_4_avg_pooling = tf.keras.layers.Dropout(0.1)(dense_3_avg_pooling)\n",
        "\n",
        "# Define output layer\n",
        "output_avg_pooling = tf.keras.layers.Dense(trainlabels.shape[1], activation='softmax')(dense_4_avg_pooling)\n",
        "\n",
        "# Define the model\n",
        "model_avg_pooling = tf.keras.Model(inputs=input_text, outputs=output_avg_pooling)\n",
        "\n",
        "# Freeze the BERT layers\n",
        "bert_model.trainable = False  # sets the BERT model's trainable attribute to False, which freezes the weights of the BERT layers. \n",
        "                              # This means that during training, the weights of the BERT layers will not be updated. \n",
        "                              # Freezing the BERT layers can be beneficial when the dataset used to fine-tune BERT is small or when the task-specific layers have not converged yet. \n",
        "                              # Freezing the BERT layers allows the model to focus on learning the task-specific layers without overfitting to the small dataset or disrupting the already learned BERT weights.\n",
        "\n",
        "# Compile the model\n",
        "optimizer = tf.keras.optimizers.Adam(learning_rate=5e-5)\n",
        "model_avg_pooling.compile(optimizer=optimizer, loss='categorical_crossentropy', metrics=['accuracy'])"
      ],
      "metadata": {
        "id": "EGe0mYv5-LCI"
      },
      "execution_count": null,
      "outputs": []
    },
    {
      "cell_type": "code",
      "source": [
        "train_dataset = tf.data.Dataset.from_tensor_slices((trainfeatures, trainlabels)).batch(32) # create a TensorFlow dataset from the input data tensors, which are typically NumPy arrays or Pandas dataframes\n",
        "val_dataset = tf.data.Dataset.from_tensor_slices((validfeatures, validlabels)).batch(32) "
      ],
      "metadata": {
        "id": "DzRcGR4F-LFY"
      },
      "execution_count": null,
      "outputs": []
    },
    {
      "cell_type": "code",
      "source": [
        "history = model_avg_pooling.fit(train_dataset, epochs=30, validation_data=val_dataset)"
      ],
      "metadata": {
        "colab": {
          "base_uri": "https://localhost:8080/"
        },
        "id": "BpUixkIeujlO",
        "outputId": "d846c642-bd70-45bf-d8a9-e6c611fe4d00"
      },
      "execution_count": null,
      "outputs": [
        {
          "output_type": "stream",
          "name": "stdout",
          "text": [
            "Epoch 1/30\n",
            "398/398 [==============================] - 86s 201ms/step - loss: 2.0331 - accuracy: 0.3683 - val_loss: 1.5259 - val_accuracy: 0.5355\n",
            "Epoch 2/30\n",
            "398/398 [==============================] - 79s 198ms/step - loss: 1.3135 - accuracy: 0.5941 - val_loss: 1.1253 - val_accuracy: 0.6636\n",
            "Epoch 3/30\n",
            "398/398 [==============================] - 78s 195ms/step - loss: 1.0502 - accuracy: 0.6715 - val_loss: 0.9479 - val_accuracy: 0.7249\n",
            "Epoch 4/30\n",
            "398/398 [==============================] - 78s 197ms/step - loss: 0.9031 - accuracy: 0.7177 - val_loss: 0.8546 - val_accuracy: 0.7437\n",
            "Epoch 5/30\n",
            "398/398 [==============================] - 78s 195ms/step - loss: 0.8081 - accuracy: 0.7443 - val_loss: 0.7900 - val_accuracy: 0.7579\n",
            "Epoch 6/30\n",
            "398/398 [==============================] - 79s 199ms/step - loss: 0.7332 - accuracy: 0.7707 - val_loss: 0.7433 - val_accuracy: 0.7692\n",
            "Epoch 7/30\n",
            "398/398 [==============================] - 83s 209ms/step - loss: 0.6840 - accuracy: 0.7839 - val_loss: 0.6987 - val_accuracy: 0.7827\n",
            "Epoch 8/30\n",
            "398/398 [==============================] - 79s 197ms/step - loss: 0.6284 - accuracy: 0.7989 - val_loss: 0.6638 - val_accuracy: 0.7930\n",
            "Epoch 9/30\n",
            "398/398 [==============================] - 80s 200ms/step - loss: 0.5880 - accuracy: 0.8120 - val_loss: 0.6381 - val_accuracy: 0.8021\n",
            "Epoch 10/30\n",
            "398/398 [==============================] - 78s 197ms/step - loss: 0.5532 - accuracy: 0.8255 - val_loss: 0.6201 - val_accuracy: 0.8031\n",
            "Epoch 11/30\n",
            "398/398 [==============================] - 79s 199ms/step - loss: 0.5188 - accuracy: 0.8359 - val_loss: 0.5907 - val_accuracy: 0.8090\n",
            "Epoch 12/30\n",
            "398/398 [==============================] - 80s 201ms/step - loss: 0.4913 - accuracy: 0.8471 - val_loss: 0.5814 - val_accuracy: 0.8160\n",
            "Epoch 13/30\n",
            "398/398 [==============================] - 83s 209ms/step - loss: 0.4661 - accuracy: 0.8544 - val_loss: 0.5665 - val_accuracy: 0.8188\n",
            "Epoch 14/30\n",
            "398/398 [==============================] - 79s 200ms/step - loss: 0.4454 - accuracy: 0.8584 - val_loss: 0.5525 - val_accuracy: 0.8244\n",
            "Epoch 15/30\n",
            "398/398 [==============================] - 80s 201ms/step - loss: 0.4210 - accuracy: 0.8673 - val_loss: 0.5466 - val_accuracy: 0.8273\n",
            "Epoch 16/30\n",
            "398/398 [==============================] - 79s 200ms/step - loss: 0.3968 - accuracy: 0.8768 - val_loss: 0.5266 - val_accuracy: 0.8379\n",
            "Epoch 17/30\n",
            "398/398 [==============================] - 80s 202ms/step - loss: 0.3740 - accuracy: 0.8835 - val_loss: 0.5141 - val_accuracy: 0.8373\n",
            "Epoch 18/30\n",
            "398/398 [==============================] - 80s 201ms/step - loss: 0.3584 - accuracy: 0.8886 - val_loss: 0.5103 - val_accuracy: 0.8414\n",
            "Epoch 19/30\n",
            "398/398 [==============================] - 84s 211ms/step - loss: 0.3415 - accuracy: 0.8937 - val_loss: 0.5091 - val_accuracy: 0.8367\n",
            "Epoch 20/30\n",
            "398/398 [==============================] - 79s 198ms/step - loss: 0.3260 - accuracy: 0.9005 - val_loss: 0.5003 - val_accuracy: 0.8395\n",
            "Epoch 21/30\n",
            "398/398 [==============================] - 79s 198ms/step - loss: 0.3099 - accuracy: 0.9059 - val_loss: 0.4914 - val_accuracy: 0.8423\n",
            "Epoch 22/30\n",
            "398/398 [==============================] - 79s 198ms/step - loss: 0.2942 - accuracy: 0.9130 - val_loss: 0.4846 - val_accuracy: 0.8483\n",
            "Epoch 23/30\n",
            "398/398 [==============================] - 80s 201ms/step - loss: 0.2841 - accuracy: 0.9124 - val_loss: 0.4816 - val_accuracy: 0.8470\n",
            "Epoch 24/30\n",
            "398/398 [==============================] - 80s 200ms/step - loss: 0.2687 - accuracy: 0.9191 - val_loss: 0.4800 - val_accuracy: 0.8508\n",
            "Epoch 25/30\n",
            "398/398 [==============================] - 85s 214ms/step - loss: 0.2591 - accuracy: 0.9225 - val_loss: 0.4701 - val_accuracy: 0.8527\n",
            "Epoch 26/30\n",
            "398/398 [==============================] - 79s 199ms/step - loss: 0.2459 - accuracy: 0.9270 - val_loss: 0.4645 - val_accuracy: 0.8540\n",
            "Epoch 27/30\n",
            "398/398 [==============================] - 81s 203ms/step - loss: 0.2349 - accuracy: 0.9303 - val_loss: 0.4619 - val_accuracy: 0.8543\n",
            "Epoch 28/30\n",
            "398/398 [==============================] - 81s 203ms/step - loss: 0.2224 - accuracy: 0.9333 - val_loss: 0.4566 - val_accuracy: 0.8549\n",
            "Epoch 29/30\n",
            "398/398 [==============================] - 79s 198ms/step - loss: 0.2154 - accuracy: 0.9355 - val_loss: 0.4661 - val_accuracy: 0.8599\n",
            "Epoch 30/30\n",
            "398/398 [==============================] - 85s 213ms/step - loss: 0.2026 - accuracy: 0.9397 - val_loss: 0.4543 - val_accuracy: 0.8618\n"
          ]
        },
        {
          "output_type": "execute_result",
          "data": {
            "text/plain": [
              "<keras.callbacks.History at 0x7fb8ce24d250>"
            ]
          },
          "metadata": {},
          "execution_count": 19
        }
      ]
    },
    {
      "cell_type": "code",
      "source": [
        "# Plot training & validation accuracy values\n",
        "plt.plot(history.history['accuracy'])\n",
        "plt.plot(history.history['val_accuracy'])\n",
        "plt.title('Model accuracy')\n",
        "plt.ylabel('Accuracy')\n",
        "plt.xlabel('Epoch')\n",
        "plt.legend(['Train', 'Validation'], loc='upper left')\n",
        "plt.show()"
      ],
      "metadata": {
        "id": "1lZ3XPro-LIb"
      },
      "execution_count": null,
      "outputs": []
    },
    {
      "cell_type": "markdown",
      "source": [
        "### Model 2"
      ],
      "metadata": {
        "id": "9JDN2kUBNmeD"
      }
    },
    {
      "cell_type": "code",
      "source": [
        "bert_preprocess_v2 = hub.KerasLayer(\"https://tfhub.dev/tensorflow/bert_en_uncased_preprocess/3\")\n",
        "bert_model_v2 = hub.KerasLayer(\"https://tfhub.dev/tensorflow/small_bert/bert_en_uncased_L-8_H-512_A-8/1\")"
      ],
      "metadata": {
        "id": "aj3jBLSS-LOK",
        "colab": {
          "base_uri": "https://localhost:8080/"
        },
        "outputId": "412c073f-e162-4cad-ae20-93dbc1b32ace"
      },
      "execution_count": null,
      "outputs": [
        {
          "output_type": "stream",
          "name": "stderr",
          "text": [
            "WARNING:tensorflow:Please fix your imports. Module tensorflow.python.training.tracking.data_structures has been moved to tensorflow.python.trackable.data_structures. The old module will be deleted in version 2.11.\n"
          ]
        }
      ]
    },
    {
      "cell_type": "code",
      "source": [
        "# Define input layer\n",
        "input_text_v2 = tf.keras.layers.Input(shape=(), dtype=tf.string, name='text')   # define an input tensor --> the input data to the model will be a string of variable length\n",
        "\n",
        "# Preprocess input text\n",
        "text_preprocessed_v2 = bert_preprocess_v2(input_text_v2)                           # This layer converts the input string into a format that can be understood by the BERT model\n",
        "\n",
        "# Encode input text with BERT\n",
        "output_bert_v2 = bert_model_v2(text_preprocessed_v2)                               # This layer encodes the input text using the BERT model and returns the encoded outputs\n",
        "                                                                                # After that, this will be fed into the neural network layers.\n",
        "\n",
        "# Get sequence output\n",
        "sequence_output_v2 = output_bert_v2['sequence_output']\n",
        "\n",
        "# Apply max pooling over sequence output\n",
        "max_pooling_v2 = tf.keras.layers.GlobalMaxPooling1D()(sequence_output_v2)\n",
        "\n",
        "# Apply average pooling over sequence output\n",
        "avg_pooling_v2 = tf.keras.layers.GlobalAveragePooling1D()(sequence_output_v2)\n",
        "\n",
        "# Concatenate max pooled output and pooled output\n",
        "concatenated_v2 = tf.keras.layers.Concatenate()([max_pooling_v2, avg_pooling_v2, output_bert_v2['pooled_output']])\n",
        "\n",
        "# Apply dense layers to concatenated output\n",
        "dense_1_v2 = tf.keras.layers.Dense(512, activation='relu')(concatenated_v2)\n",
        "dense_2_v2 = tf.keras.layers.Dense(256, activation='relu')(dense_1_v2)\n",
        "dense_3_v2 = tf.keras.layers.Dense(128, activation='relu')(dense_2_v2)\n",
        "dense_4_v2 = tf.keras.layers.Dropout(0.1)(dense_3_v2)\n",
        "\n",
        "# Define output layer\n",
        "output_v2 = tf.keras.layers.Dense(trainlabels.shape[1], activation='softmax')(dense_4_v2)\n",
        "\n",
        "# Define the model\n",
        "model_max_avg_pooling = tf.keras.Model(inputs=input_text_v2, outputs=output_v2)\n",
        "\n",
        "# Freeze the BERT layers\n",
        "bert_model_v2.trainable = False\n",
        "\n",
        "# Compile the model\n",
        "optimizer_v2 = tf.keras.optimizers.Adam(learning_rate=5e-5)\n",
        "model_max_avg_pooling.compile(optimizer=optimizer_v2, loss='categorical_crossentropy', metrics=['accuracy'])\n"
      ],
      "metadata": {
        "id": "CvvzXALx-LQ5",
        "colab": {
          "base_uri": "https://localhost:8080/"
        },
        "outputId": "e08cc5eb-a6b4-4e66-a8b8-111aa3225bee"
      },
      "execution_count": null,
      "outputs": [
        {
          "output_type": "stream",
          "name": "stderr",
          "text": [
            "WARNING:tensorflow:From /usr/local/lib/python3.9/dist-packages/tensorflow/python/autograph/pyct/static_analysis/liveness.py:83: Analyzer.lamba_check (from tensorflow.python.autograph.pyct.static_analysis.liveness) is deprecated and will be removed after 2023-09-23.\n",
            "Instructions for updating:\n",
            "Lambda fuctions will be no more assumed to be used in the statement where they are used, or at least in the same block. https://github.com/tensorflow/tensorflow/issues/56089\n"
          ]
        }
      ]
    },
    {
      "cell_type": "code",
      "source": [
        "train_dataset = tf.data.Dataset.from_tensor_slices((trainfeatures, trainlabels)).batch(32) # create a TensorFlow dataset from the input data tensors, which are typically NumPy arrays or Pandas dataframes\n",
        "val_dataset = tf.data.Dataset.from_tensor_slices((validfeatures, validlabels)).batch(32) "
      ],
      "metadata": {
        "id": "NaW5nBZx-LTs"
      },
      "execution_count": null,
      "outputs": []
    },
    {
      "cell_type": "code",
      "source": [
        "history_max_avg_pooling = model_max_avg_pooling.fit(train_dataset, epochs=30, validation_data=val_dataset)"
      ],
      "metadata": {
        "id": "77QZ-xaa-LWm",
        "colab": {
          "base_uri": "https://localhost:8080/"
        },
        "outputId": "db92c9b2-3571-487a-8ab5-c91b4f562ec9"
      },
      "execution_count": null,
      "outputs": [
        {
          "output_type": "stream",
          "name": "stdout",
          "text": [
            "Epoch 1/30\n",
            "398/398 [==============================] - 100s 225ms/step - loss: 1.9592 - accuracy: 0.3784 - val_loss: 1.4508 - val_accuracy: 0.5628\n",
            "Epoch 2/30\n",
            "398/398 [==============================] - 86s 217ms/step - loss: 1.2809 - accuracy: 0.5976 - val_loss: 1.0911 - val_accuracy: 0.6731\n",
            "Epoch 3/30\n",
            "398/398 [==============================] - 81s 205ms/step - loss: 1.0375 - accuracy: 0.6771 - val_loss: 0.9266 - val_accuracy: 0.7192\n",
            "Epoch 4/30\n",
            "398/398 [==============================] - 80s 201ms/step - loss: 0.8895 - accuracy: 0.7194 - val_loss: 0.8252 - val_accuracy: 0.7509\n",
            "Epoch 5/30\n",
            "398/398 [==============================] - 81s 204ms/step - loss: 0.7961 - accuracy: 0.7506 - val_loss: 0.7543 - val_accuracy: 0.7701\n",
            "Epoch 6/30\n",
            "398/398 [==============================] - 85s 215ms/step - loss: 0.7169 - accuracy: 0.7753 - val_loss: 0.6989 - val_accuracy: 0.7855\n",
            "Epoch 7/30\n",
            "398/398 [==============================] - 85s 214ms/step - loss: 0.6585 - accuracy: 0.7920 - val_loss: 0.6558 - val_accuracy: 0.7927\n",
            "Epoch 8/30\n",
            "398/398 [==============================] - 80s 201ms/step - loss: 0.6081 - accuracy: 0.8081 - val_loss: 0.6244 - val_accuracy: 0.8031\n",
            "Epoch 9/30\n",
            "398/398 [==============================] - 85s 212ms/step - loss: 0.5666 - accuracy: 0.8201 - val_loss: 0.5833 - val_accuracy: 0.8094\n",
            "Epoch 10/30\n",
            "398/398 [==============================] - 80s 201ms/step - loss: 0.5252 - accuracy: 0.8319 - val_loss: 0.5665 - val_accuracy: 0.8232\n",
            "Epoch 11/30\n",
            "398/398 [==============================] - 85s 215ms/step - loss: 0.4931 - accuracy: 0.8483 - val_loss: 0.5343 - val_accuracy: 0.8317\n",
            "Epoch 12/30\n",
            "398/398 [==============================] - 81s 202ms/step - loss: 0.4625 - accuracy: 0.8547 - val_loss: 0.5267 - val_accuracy: 0.8351\n",
            "Epoch 13/30\n",
            "398/398 [==============================] - 82s 205ms/step - loss: 0.4357 - accuracy: 0.8630 - val_loss: 0.5199 - val_accuracy: 0.8335\n",
            "Epoch 14/30\n",
            "398/398 [==============================] - 85s 213ms/step - loss: 0.4155 - accuracy: 0.8732 - val_loss: 0.5060 - val_accuracy: 0.8361\n",
            "Epoch 15/30\n",
            "398/398 [==============================] - 85s 214ms/step - loss: 0.3928 - accuracy: 0.8763 - val_loss: 0.5019 - val_accuracy: 0.8439\n",
            "Epoch 16/30\n",
            "398/398 [==============================] - 83s 208ms/step - loss: 0.3696 - accuracy: 0.8841 - val_loss: 0.4891 - val_accuracy: 0.8455\n",
            "Epoch 17/30\n",
            "398/398 [==============================] - 79s 199ms/step - loss: 0.3500 - accuracy: 0.8930 - val_loss: 0.4867 - val_accuracy: 0.8436\n",
            "Epoch 18/30\n",
            "398/398 [==============================] - 85s 212ms/step - loss: 0.3319 - accuracy: 0.8988 - val_loss: 0.4685 - val_accuracy: 0.8511\n",
            "Epoch 19/30\n",
            "398/398 [==============================] - 84s 211ms/step - loss: 0.3103 - accuracy: 0.9072 - val_loss: 0.4633 - val_accuracy: 0.8486\n",
            "Epoch 20/30\n",
            "398/398 [==============================] - 85s 215ms/step - loss: 0.2950 - accuracy: 0.9090 - val_loss: 0.4358 - val_accuracy: 0.8646\n",
            "Epoch 21/30\n",
            "398/398 [==============================] - 81s 203ms/step - loss: 0.2782 - accuracy: 0.9162 - val_loss: 0.4503 - val_accuracy: 0.8596\n",
            "Epoch 22/30\n",
            "398/398 [==============================] - 80s 202ms/step - loss: 0.2675 - accuracy: 0.9193 - val_loss: 0.4443 - val_accuracy: 0.8602\n",
            "Epoch 23/30\n",
            "398/398 [==============================] - 80s 201ms/step - loss: 0.2525 - accuracy: 0.9259 - val_loss: 0.4470 - val_accuracy: 0.8568\n",
            "Epoch 24/30\n",
            "398/398 [==============================] - 80s 200ms/step - loss: 0.2394 - accuracy: 0.9288 - val_loss: 0.4401 - val_accuracy: 0.8634\n",
            "Epoch 25/30\n",
            "398/398 [==============================] - 80s 202ms/step - loss: 0.2250 - accuracy: 0.9333 - val_loss: 0.4366 - val_accuracy: 0.8628\n",
            "Epoch 26/30\n",
            "398/398 [==============================] - 80s 201ms/step - loss: 0.2120 - accuracy: 0.9381 - val_loss: 0.4330 - val_accuracy: 0.8649\n",
            "Epoch 27/30\n",
            "398/398 [==============================] - 85s 213ms/step - loss: 0.2029 - accuracy: 0.9423 - val_loss: 0.4419 - val_accuracy: 0.8643\n",
            "Epoch 28/30\n",
            "398/398 [==============================] - 79s 199ms/step - loss: 0.1931 - accuracy: 0.9441 - val_loss: 0.4178 - val_accuracy: 0.8722\n",
            "Epoch 29/30\n",
            "398/398 [==============================] - 80s 200ms/step - loss: 0.1841 - accuracy: 0.9466 - val_loss: 0.4439 - val_accuracy: 0.8646\n",
            "Epoch 30/30\n",
            "398/398 [==============================] - 80s 201ms/step - loss: 0.1765 - accuracy: 0.9478 - val_loss: 0.4109 - val_accuracy: 0.8775\n"
          ]
        }
      ]
    },
    {
      "cell_type": "code",
      "source": [
        "# Plot training & validation accuracy values\n",
        "plt.plot(history_max_avg_pooling.history['accuracy'])\n",
        "plt.plot(history_max_avg_pooling.history['val_accuracy'])\n",
        "plt.title('Model accuracy')\n",
        "plt.ylabel('Accuracy')\n",
        "plt.xlabel('Epoch')\n",
        "plt.legend(['Train', 'Validation'], loc='upper left')\n",
        "plt.show()"
      ],
      "metadata": {
        "id": "Ud72taMM-LZZ",
        "colab": {
          "base_uri": "https://localhost:8080/",
          "height": 295
        },
        "outputId": "5dcbe1c0-d555-456c-dc1b-35dde27bda84"
      },
      "execution_count": null,
      "outputs": [
        {
          "output_type": "display_data",
          "data": {
            "text/plain": [
              "<Figure size 432x288 with 1 Axes>"
            ],
            "image/png": "[encoded data removed]"
          },
          "metadata": {
            "needs_background": "light"
          }
        }
      ]
    },
    {
      "cell_type": "markdown",
      "source": [
        "### Model 3 \n"
      ],
      "metadata": {
        "id": "EiUP5OKRnc5X"
      }
    },
    {
      "cell_type": "code",
      "source": [
        "# consider 'early stopping'\n",
        "# consider 'another dropout\n",
        "# consider taking into account the weights of the classes"
      ],
      "metadata": {
        "id": "_YaSkG5fk3Ps"
      },
      "execution_count": null,
      "outputs": []
    },
    {
      "cell_type": "code",
      "source": [
        "bert_preprocess_v3 = hub.KerasLayer(\"https://tfhub.dev/tensorflow/bert_en_uncased_preprocess/3\")\n",
        "bert_model_v3 = hub.KerasLayer(\"https://tfhub.dev/tensorflow/small_bert/bert_en_uncased_L-8_H-512_A-8/1\")"
      ],
      "metadata": {
        "id": "8-P_M6rJk3SQ"
      },
      "execution_count": null,
      "outputs": []
    },
    {
      "cell_type": "code",
      "source": [
        "# Define input layer\n",
        "input_text_v3 = tf.keras.layers.Input(shape=(), dtype=tf.string, name='text')   # define an input tensor --> the input data to the model will be a string of variable length\n",
        "\n",
        "# Preprocess input text\n",
        "text_preprocessed_v3 = bert_preprocess_v2(input_text_v3)                           # This layer converts the input string into a format that can be understood by the BERT model\n",
        "\n",
        "# Encode input text with BERT\n",
        "output_bert_v3 = bert_model_v3(text_preprocessed_v3)                               # This layer encodes the input text using the BERT model and returns the encoded outputs\n",
        "                                                                                # After that, this will be fed into the neural network layers.\n",
        "\n",
        "# Get sequence output\n",
        "sequence_output_v3 = output_bert_v3['sequence_output']\n",
        "\n",
        "# Apply max pooling over sequence output\n",
        "max_pooling_v3 = tf.keras.layers.GlobalMaxPooling1D()(sequence_output_v3)\n",
        "\n",
        "# Apply average pooling over sequence output\n",
        "avg_pooling_v3 = tf.keras.layers.GlobalAveragePooling1D()(sequence_output_v3)\n",
        "\n",
        "# Concatenate max pooled output and pooled output\n",
        "concatenated_v3 = tf.keras.layers.Concatenate()([max_pooling_v3, avg_pooling_v3, output_bert_v3['pooled_output']])\n",
        "\n",
        "# Apply dense layers to concatenated output\n",
        "dense_1_v3 = tf.keras.layers.Dense(512, activation='relu')(concatenated_v3)\n",
        "dense_2_v3 = tf.keras.layers.Dense(256, activation='relu')(dense_1_v3)\n",
        "dense_3_v3 = tf.keras.layers.Dropout(0.1)(dense_2_v3)\n",
        "dense_4_v3 = tf.keras.layers.Dense(128, activation='relu')(dense_3_v3)\n",
        "dense_5_v3 = tf.keras.layers.Dropout(0.1)(dense_4_v3)\n",
        "\n",
        "# Define output layer\n",
        "output_v3 = tf.keras.layers.Dense(trainlabels.shape[1], activation='softmax')(dense_5_v3)\n",
        "\n",
        "# Define the model\n",
        "model_max_avg_pooling_v3 = tf.keras.Model(inputs=input_text_v3, outputs=output_v3)\n",
        "\n",
        "# Freeze the BERT layers\n",
        "bert_model_v3.trainable = False\n",
        "\n",
        "# Compile the model\n",
        "optimizer_v3 = tf.keras.optimizers.Adam(learning_rate=5e-5)\n",
        "model_max_avg_pooling_v3.compile(optimizer=optimizer_v3, loss='categorical_crossentropy', metrics=['accuracy'])\n"
      ],
      "metadata": {
        "id": "fwUbZB3Wk3Ut"
      },
      "execution_count": null,
      "outputs": []
    },
    {
      "cell_type": "code",
      "source": [
        "train_dataset = tf.data.Dataset.from_tensor_slices((trainfeatures, trainlabels)).batch(32) # create a TensorFlow dataset from the input data tensors, which are typically NumPy arrays or Pandas dataframes\n",
        "val_dataset = tf.data.Dataset.from_tensor_slices((validfeatures, validlabels)).batch(32) "
      ],
      "metadata": {
        "id": "rBdfoV8ANuri"
      },
      "execution_count": null,
      "outputs": []
    },
    {
      "cell_type": "code",
      "source": [
        "history_max_avg_pooling_v3 = model_max_avg_pooling_v3.fit(train_dataset, epochs=30, validation_data=val_dataset)"
      ],
      "metadata": {
        "colab": {
          "base_uri": "https://localhost:8080/"
        },
        "id": "eRbwjFovudHK",
        "outputId": "220c4bc3-302f-4622-cc8c-e532307aeee9"
      },
      "execution_count": null,
      "outputs": [
        {
          "output_type": "stream",
          "name": "stdout",
          "text": [
            "Epoch 1/30\n",
            "398/398 [==============================] - 92s 211ms/step - loss: 2.0549 - accuracy: 0.3404 - val_loss: 1.5031 - val_accuracy: 0.5503\n",
            "Epoch 2/30\n",
            "398/398 [==============================] - 84s 210ms/step - loss: 1.3705 - accuracy: 0.5633 - val_loss: 1.1243 - val_accuracy: 0.6476\n",
            "Epoch 3/30\n",
            "398/398 [==============================] - 85s 214ms/step - loss: 1.1046 - accuracy: 0.6493 - val_loss: 0.9463 - val_accuracy: 0.7082\n",
            "Epoch 4/30\n",
            "398/398 [==============================] - 79s 199ms/step - loss: 0.9454 - accuracy: 0.7001 - val_loss: 0.8389 - val_accuracy: 0.7321\n",
            "Epoch 5/30\n",
            "398/398 [==============================] - 79s 200ms/step - loss: 0.8469 - accuracy: 0.7312 - val_loss: 0.7608 - val_accuracy: 0.7594\n",
            "Epoch 6/30\n",
            "398/398 [==============================] - 83s 208ms/step - loss: 0.7698 - accuracy: 0.7572 - val_loss: 0.6999 - val_accuracy: 0.7783\n",
            "Epoch 7/30\n",
            "398/398 [==============================] - 79s 199ms/step - loss: 0.7116 - accuracy: 0.7741 - val_loss: 0.6635 - val_accuracy: 0.7886\n",
            "Epoch 8/30\n",
            "398/398 [==============================] - 80s 202ms/step - loss: 0.6583 - accuracy: 0.7913 - val_loss: 0.6256 - val_accuracy: 0.7993\n",
            "Epoch 9/30\n",
            "398/398 [==============================] - 84s 212ms/step - loss: 0.6073 - accuracy: 0.8043 - val_loss: 0.6135 - val_accuracy: 0.8018\n",
            "Epoch 10/30\n",
            "398/398 [==============================] - 80s 200ms/step - loss: 0.5748 - accuracy: 0.8193 - val_loss: 0.5809 - val_accuracy: 0.8147\n",
            "Epoch 11/30\n",
            "398/398 [==============================] - 80s 201ms/step - loss: 0.5369 - accuracy: 0.8269 - val_loss: 0.5514 - val_accuracy: 0.8210\n",
            "Epoch 12/30\n",
            "398/398 [==============================] - 80s 200ms/step - loss: 0.5063 - accuracy: 0.8427 - val_loss: 0.5280 - val_accuracy: 0.8279\n",
            "Epoch 13/30\n",
            "398/398 [==============================] - 80s 200ms/step - loss: 0.4824 - accuracy: 0.8469 - val_loss: 0.5146 - val_accuracy: 0.8326\n",
            "Epoch 14/30\n",
            "398/398 [==============================] - 80s 201ms/step - loss: 0.4523 - accuracy: 0.8590 - val_loss: 0.5078 - val_accuracy: 0.8376\n",
            "Epoch 15/30\n",
            "398/398 [==============================] - 85s 213ms/step - loss: 0.4296 - accuracy: 0.8650 - val_loss: 0.5074 - val_accuracy: 0.8367\n",
            "Epoch 16/30\n",
            "398/398 [==============================] - 78s 197ms/step - loss: 0.4069 - accuracy: 0.8728 - val_loss: 0.4858 - val_accuracy: 0.8445\n",
            "Epoch 17/30\n",
            "398/398 [==============================] - 79s 199ms/step - loss: 0.3851 - accuracy: 0.8804 - val_loss: 0.4699 - val_accuracy: 0.8521\n",
            "Epoch 18/30\n",
            "398/398 [==============================] - 78s 195ms/step - loss: 0.3625 - accuracy: 0.8872 - val_loss: 0.4721 - val_accuracy: 0.8508\n",
            "Epoch 19/30\n",
            "398/398 [==============================] - 79s 198ms/step - loss: 0.3441 - accuracy: 0.8941 - val_loss: 0.4781 - val_accuracy: 0.8470\n",
            "Epoch 20/30\n",
            "398/398 [==============================] - 78s 196ms/step - loss: 0.3268 - accuracy: 0.8981 - val_loss: 0.4579 - val_accuracy: 0.8514\n",
            "Epoch 21/30\n",
            "398/398 [==============================] - 79s 199ms/step - loss: 0.3121 - accuracy: 0.9030 - val_loss: 0.4748 - val_accuracy: 0.8489\n",
            "Epoch 22/30\n",
            "398/398 [==============================] - 79s 200ms/step - loss: 0.3019 - accuracy: 0.9037 - val_loss: 0.4489 - val_accuracy: 0.8580\n",
            "Epoch 23/30\n",
            "336/398 [========================>.....] - ETA: 9s - loss: 0.2808 - accuracy: 0.9146 "
          ]
        }
      ]
    },
    {
      "cell_type": "code",
      "source": [
        "# Plot training & validation accuracy values\n",
        "plt.plot(history_max_avg_pooling_v3.history['accuracy'])\n",
        "plt.plot(history_max_avg_pooling_v3.history['val_accuracy'])\n",
        "plt.title('Model accuracy')\n",
        "plt.ylabel('Accuracy')\n",
        "plt.xlabel('Epoch')\n",
        "plt.legend(['Train', 'Validation'], loc='upper left')\n",
        "plt.show()"
      ],
      "metadata": {
        "id": "y_69tWh5udJx"
      },
      "execution_count": null,
      "outputs": []
    },
    {
      "cell_type": "code",
      "source": [],
      "metadata": {
        "id": "4Avjf3X_udMJ"
      },
      "execution_count": null,
      "outputs": []
    },
    {
      "cell_type": "code",
      "source": [],
      "metadata": {
        "id": "j3fTjn7FudOg"
      },
      "execution_count": null,
      "outputs": []
    },
    {
      "cell_type": "markdown",
      "source": [
        "### Model 4: early stopping = 3"
      ],
      "metadata": {
        "id": "BkgM8eq6wUaP"
      }
    },
    {
      "cell_type": "code",
      "source": [
        "# Early stopping"
      ],
      "metadata": {
        "id": "KyfYjh0OM01Y"
      },
      "execution_count": null,
      "outputs": []
    },
    {
      "cell_type": "code",
      "source": [
        "bert_preprocess_v4 = hub.KerasLayer(\"https://tfhub.dev/tensorflow/bert_en_uncased_preprocess/3\")\n",
        "bert_model_v4 = hub.KerasLayer(\"https://tfhub.dev/tensorflow/small_bert/bert_en_uncased_L-8_H-512_A-8/1\")"
      ],
      "metadata": {
        "colab": {
          "base_uri": "https://localhost:8080/"
        },
        "id": "ZbQ8BDjKM039",
        "outputId": "4faac99f-a4a2-4d08-f54b-875cec103df6"
      },
      "execution_count": 7,
      "outputs": [
        {
          "output_type": "stream",
          "name": "stderr",
          "text": [
            "WARNING:tensorflow:Please fix your imports. Module tensorflow.python.training.tracking.data_structures has been moved to tensorflow.python.trackable.data_structures. The old module will be deleted in version 2.11.\n"
          ]
        }
      ]
    },
    {
      "cell_type": "code",
      "source": [
        "# Define input layer\n",
        "input_text_v4 = tf.keras.layers.Input(shape=(), dtype=tf.string, name='text')   # define an input tensor --> the input data to the model will be a string of variable length\n",
        "\n",
        "# Preprocess input text\n",
        "text_preprocessed_v4 = bert_preprocess_v4(input_text_v4)                           # This layer converts the input string into a format that can be understood by the BERT model\n",
        "\n",
        "# Encode input text with BERT\n",
        "output_bert_v4 = bert_model_v4(text_preprocessed_v4)                               # This layer encodes the input text using the BERT model and returns the encoded outputs\n",
        "                                                                                # After that, this will be fed into the neural network layers.\n",
        "\n",
        "# Get sequence output\n",
        "sequence_output_v4 = output_bert_v4['sequence_output']\n",
        "\n",
        "# Apply max pooling over sequence output\n",
        "max_pooling_v4 = tf.keras.layers.GlobalMaxPooling1D()(sequence_output_v4)\n",
        "\n",
        "# Apply average pooling over sequence output\n",
        "avg_pooling_v4 = tf.keras.layers.GlobalAveragePooling1D()(sequence_output_v4)\n",
        "\n",
        "# Concatenate max pooled output and pooled output\n",
        "concatenated_v4 = tf.keras.layers.Concatenate()([max_pooling_v4, avg_pooling_v4, output_bert_v4['pooled_output']])\n",
        "\n",
        "# Apply dense layers to concatenated output\n",
        "dense_1_v4 = tf.keras.layers.Dense(512, activation='relu')(concatenated_v4)\n",
        "dense_2_v4 = tf.keras.layers.Dense(256, activation='relu')(dense_1_v4)\n",
        "dense_3_v4 = tf.keras.layers.Dropout(0.1)(dense_2_v4)\n",
        "dense_4_v4 = tf.keras.layers.Dense(128, activation='relu')(dense_3_v4)\n",
        "dense_5_v4 = tf.keras.layers.Dropout(0.1)(dense_4_v4)\n",
        "\n",
        "# Define output layer\n",
        "output_v4 = tf.keras.layers.Dense(trainlabels.shape[1], activation='softmax')(dense_5_v4)\n",
        "\n",
        "# Define the model\n",
        "model_max_avg_pooling_v4 = tf.keras.Model(inputs=input_text_v4, outputs=output_v4)\n",
        "\n",
        "# Freeze the BERT layers\n",
        "bert_model_v4.trainable = False\n",
        "\n",
        "# Compile the model\n",
        "optimizer_v4 = tf.keras.optimizers.Adam(learning_rate=5e-5)\n",
        "model_max_avg_pooling_v4.compile(optimizer=optimizer_v4, loss='categorical_crossentropy', metrics=['accuracy'])\n"
      ],
      "metadata": {
        "colab": {
          "base_uri": "https://localhost:8080/"
        },
        "id": "x3B6CCDIM4Yz",
        "outputId": "a421f751-7d41-4e60-9c25-777238517df1"
      },
      "execution_count": 8,
      "outputs": [
        {
          "output_type": "stream",
          "name": "stderr",
          "text": [
            "WARNING:tensorflow:From /usr/local/lib/python3.9/dist-packages/tensorflow/python/autograph/pyct/static_analysis/liveness.py:83: Analyzer.lamba_check (from tensorflow.python.autograph.pyct.static_analysis.liveness) is deprecated and will be removed after 2023-09-23.\n",
            "Instructions for updating:\n",
            "Lambda fuctions will be no more assumed to be used in the statement where they are used, or at least in the same block. https://github.com/tensorflow/tensorflow/issues/56089\n"
          ]
        }
      ]
    },
    {
      "cell_type": "code",
      "source": [
        "# Import EarlyStopping callback\n",
        "from tensorflow.keras.callbacks import EarlyStopping\n",
        "\n",
        "# Define EarlyStopping callback\n",
        "earlystop_callback = EarlyStopping(\n",
        "    monitor='val_loss',  # Monitor validation loss\n",
        "    patience=3,          # Stop training if validation loss does not improve for 3 epochs\n",
        "    restore_best_weights=True   # Restore the weights of the best epoch\n",
        ")"
      ],
      "metadata": {
        "id": "o0ekhJBvN6Q_"
      },
      "execution_count": 9,
      "outputs": []
    },
    {
      "cell_type": "code",
      "source": [
        "train_dataset = tf.data.Dataset.from_tensor_slices((trainfeatures, trainlabels)).batch(32) # create a TensorFlow dataset from the input data tensors, which are typically NumPy arrays or Pandas dataframes\n",
        "val_dataset = tf.data.Dataset.from_tensor_slices((validfeatures, validlabels)).batch(32) "
      ],
      "metadata": {
        "id": "UrJzYutUM4bM"
      },
      "execution_count": 10,
      "outputs": []
    },
    {
      "cell_type": "code",
      "source": [
        "history_max_avg_pooling_v4 = model_max_avg_pooling_v4.fit(train_dataset, epochs=30, validation_data=val_dataset, callbacks=[earlystop_callback])"
      ],
      "metadata": {
        "colab": {
          "base_uri": "https://localhost:8080/"
        },
        "id": "bMEBmNEaM4dr",
        "outputId": "5bd85fea-922a-4808-b525-314fa17b3b52"
      },
      "execution_count": 11,
      "outputs": [
        {
          "output_type": "stream",
          "name": "stdout",
          "text": [
            "Epoch 1/30\n",
            "398/398 [==============================] - 93s 203ms/step - loss: 2.0620 - accuracy: 0.3441 - val_loss: 1.5780 - val_accuracy: 0.5188\n",
            "Epoch 2/30\n",
            "398/398 [==============================] - 76s 192ms/step - loss: 1.3926 - accuracy: 0.5607 - val_loss: 1.1754 - val_accuracy: 0.6410\n",
            "Epoch 3/30\n",
            "398/398 [==============================] - 76s 192ms/step - loss: 1.1229 - accuracy: 0.6451 - val_loss: 1.0163 - val_accuracy: 0.6866\n",
            "Epoch 4/30\n",
            "398/398 [==============================] - 77s 192ms/step - loss: 0.9623 - accuracy: 0.6939 - val_loss: 0.9044 - val_accuracy: 0.7195\n",
            "Epoch 5/30\n",
            "398/398 [==============================] - 77s 193ms/step - loss: 0.8579 - accuracy: 0.7270 - val_loss: 0.8255 - val_accuracy: 0.7465\n",
            "Epoch 6/30\n",
            "398/398 [==============================] - 82s 206ms/step - loss: 0.7772 - accuracy: 0.7567 - val_loss: 0.7919 - val_accuracy: 0.7553\n",
            "Epoch 7/30\n",
            "398/398 [==============================] - 77s 193ms/step - loss: 0.7180 - accuracy: 0.7751 - val_loss: 0.7485 - val_accuracy: 0.7644\n",
            "Epoch 8/30\n",
            "398/398 [==============================] - 77s 194ms/step - loss: 0.6524 - accuracy: 0.7982 - val_loss: 0.6964 - val_accuracy: 0.7817\n",
            "Epoch 9/30\n",
            "398/398 [==============================] - 82s 206ms/step - loss: 0.6140 - accuracy: 0.8036 - val_loss: 0.6668 - val_accuracy: 0.7971\n",
            "Epoch 10/30\n",
            "398/398 [==============================] - 77s 193ms/step - loss: 0.5663 - accuracy: 0.8222 - val_loss: 0.6376 - val_accuracy: 0.7990\n",
            "Epoch 11/30\n",
            "398/398 [==============================] - 77s 193ms/step - loss: 0.5309 - accuracy: 0.8354 - val_loss: 0.5997 - val_accuracy: 0.8138\n",
            "Epoch 12/30\n",
            "398/398 [==============================] - 82s 206ms/step - loss: 0.5049 - accuracy: 0.8410 - val_loss: 0.6062 - val_accuracy: 0.8109\n",
            "Epoch 13/30\n",
            "398/398 [==============================] - 76s 192ms/step - loss: 0.4785 - accuracy: 0.8512 - val_loss: 0.6127 - val_accuracy: 0.8125\n",
            "Epoch 14/30\n",
            "398/398 [==============================] - 77s 193ms/step - loss: 0.4485 - accuracy: 0.8578 - val_loss: 0.6045 - val_accuracy: 0.8150\n"
          ]
        }
      ]
    },
    {
      "cell_type": "code",
      "source": [
        "# Plot training & validation accuracy values\n",
        "plt.plot(history_max_avg_pooling_v4.history['accuracy'])\n",
        "plt.plot(history_max_avg_pooling_v4.history['val_accuracy'])\n",
        "plt.title('Model accuracy')\n",
        "plt.ylabel('Accuracy')\n",
        "plt.xlabel('Epoch')\n",
        "plt.legend(['Train', 'Validation'], loc='upper left')\n",
        "plt.show()"
      ],
      "metadata": {
        "colab": {
          "base_uri": "https://localhost:8080/",
          "height": 295
        },
        "id": "DMIxtO80M4gB",
        "outputId": "d916c249-9728-427c-f3b2-98a9ee59089d"
      },
      "execution_count": 12,
      "outputs": [
        {
          "output_type": "display_data",
          "data": {
            "text/plain": [
              "<Figure size 432x288 with 1 Axes>"
            ],
            "image/png": "[encoded data removed]"
          },
          "metadata": {
            "needs_background": "light"
          }
        }
      ]
    },
    {
      "cell_type": "code",
      "source": [],
      "metadata": {
        "id": "tqqpBb9FM07D"
      },
      "execution_count": null,
      "outputs": []
    },
    {
      "cell_type": "code",
      "source": [],
      "metadata": {
        "id": "jozEwJLpM09R"
      },
      "execution_count": null,
      "outputs": []
    },
    {
      "cell_type": "code",
      "source": [],
      "metadata": {
        "id": "_KAD7bfeM0_6"
      },
      "execution_count": null,
      "outputs": []
    },
    {
      "cell_type": "code",
      "source": [],
      "metadata": {
        "id": "XYsRFDdhM1CY"
      },
      "execution_count": null,
      "outputs": []
    },
    {
      "cell_type": "markdown",
      "source": [
        "### Model 4-2: Early stopping = 5"
      ],
      "metadata": {
        "id": "0k-W8Uj-U9YA"
      }
    },
    {
      "cell_type": "code",
      "source": [
        "bert_preprocess_v5 = hub.KerasLayer(\"https://tfhub.dev/tensorflow/bert_en_uncased_preprocess/3\")\n",
        "bert_model_v5 = hub.KerasLayer(\"https://tfhub.dev/tensorflow/small_bert/bert_en_uncased_L-8_H-512_A-8/1\")"
      ],
      "metadata": {
        "id": "PlXwBoyrUnHr"
      },
      "execution_count": 13,
      "outputs": []
    },
    {
      "cell_type": "code",
      "source": [
        "# Define input layer\n",
        "input_text_v5 = tf.keras.layers.Input(shape=(), dtype=tf.string, name='text')   # define an input tensor --> the input data to the model will be a string of variable length\n",
        "\n",
        "# Preprocess input text\n",
        "text_preprocessed_v5 = bert_preprocess_v5(input_text_v5)                           # This layer converts the input string into a format that can be understood by the BERT model\n",
        "\n",
        "# Encode input text with BERT\n",
        "output_bert_v5 = bert_model_v5(text_preprocessed_v5)                               # This layer encodes the input text using the BERT model and returns the encoded outputs\n",
        "                                                                                # After that, this will be fed into the neural network layers.\n",
        "\n",
        "# Get sequence output\n",
        "sequence_output_v5 = output_bert_v5['sequence_output']\n",
        "\n",
        "# Apply max pooling over sequence output\n",
        "max_pooling_v5 = tf.keras.layers.GlobalMaxPooling1D()(sequence_output_v5)\n",
        "\n",
        "# Apply average pooling over sequence output\n",
        "avg_pooling_v5 = tf.keras.layers.GlobalAveragePooling1D()(sequence_output_v5)\n",
        "\n",
        "# Concatenate max pooled output and pooled output\n",
        "concatenated_v5 = tf.keras.layers.Concatenate()([max_pooling_v5, avg_pooling_v5, output_bert_v5['pooled_output']])\n",
        "\n",
        "# Apply dense layers to concatenated output\n",
        "dense_1_v5 = tf.keras.layers.Dense(512, activation='relu')(concatenated_v5)\n",
        "dense_2_v5 = tf.keras.layers.Dense(256, activation='relu')(dense_1_v5)\n",
        "dense_3_v5 = tf.keras.layers.Dropout(0.1)(dense_2_v5)\n",
        "dense_4_v5 = tf.keras.layers.Dense(128, activation='relu')(dense_3_v5)\n",
        "dense_5_v5 = tf.keras.layers.Dropout(0.1)(dense_4_v5)\n",
        "\n",
        "# Define output layer\n",
        "output_v5 = tf.keras.layers.Dense(trainlabels.shape[1], activation='softmax')(dense_5_v5)\n",
        "\n",
        "# Define the model\n",
        "model_max_avg_pooling_v5 = tf.keras.Model(inputs=input_text_v5, outputs=output_v5)\n",
        "\n",
        "# Freeze the BERT layers\n",
        "bert_model_v5.trainable = False\n",
        "\n",
        "# Compile the model\n",
        "optimizer_v5 = tf.keras.optimizers.Adam(learning_rate=5e-5)\n",
        "model_max_avg_pooling_v5.compile(optimizer=optimizer_v5, loss='categorical_crossentropy', metrics=['accuracy'])\n",
        "\n",
        "\n"
      ],
      "metadata": {
        "id": "z17ix1dLUnKF"
      },
      "execution_count": 14,
      "outputs": []
    },
    {
      "cell_type": "code",
      "source": [
        "# Import EarlyStopping callback\n",
        "from tensorflow.keras.callbacks import EarlyStopping\n",
        "\n",
        "# Define EarlyStopping callback\n",
        "earlystop_callback = EarlyStopping(\n",
        "    monitor='val_loss',  # Monitor validation loss\n",
        "    patience=5,          # Stop training if validation loss does not improve for 5 epochs\n",
        "    restore_best_weights=True   # Restore the weights of the best epoch\n",
        ")"
      ],
      "metadata": {
        "id": "RYh3HKyiUnMi"
      },
      "execution_count": 15,
      "outputs": []
    },
    {
      "cell_type": "code",
      "source": [
        "train_dataset = tf.data.Dataset.from_tensor_slices((trainfeatures, trainlabels)).batch(32) # create a TensorFlow dataset from the input data tensors, which are typically NumPy arrays or Pandas dataframes\n",
        "val_dataset = tf.data.Dataset.from_tensor_slices((validfeatures, validlabels)).batch(32) "
      ],
      "metadata": {
        "id": "DQ6A4g0PUuwU"
      },
      "execution_count": 16,
      "outputs": []
    },
    {
      "cell_type": "code",
      "source": [
        "history_max_avg_pooling_v5 = model_max_avg_pooling_v5.fit(train_dataset, epochs=30, validation_data=val_dataset, callbacks=[earlystop_callback])"
      ],
      "metadata": {
        "colab": {
          "base_uri": "https://localhost:8080/"
        },
        "id": "6l_pMJJ9Uuy1",
        "outputId": "74bf4e3d-0d70-4d1e-8dff-d05149091710"
      },
      "execution_count": 17,
      "outputs": [
        {
          "output_type": "stream",
          "name": "stdout",
          "text": [
            "Epoch 1/30\n",
            "398/398 [==============================] - 86s 195ms/step - loss: 2.0559 - accuracy: 0.3327 - val_loss: 1.5738 - val_accuracy: 0.5097\n",
            "Epoch 2/30\n",
            "398/398 [==============================] - 77s 193ms/step - loss: 1.4119 - accuracy: 0.5433 - val_loss: 1.1825 - val_accuracy: 0.6335\n",
            "Epoch 3/30\n",
            "398/398 [==============================] - 76s 192ms/step - loss: 1.1280 - accuracy: 0.6357 - val_loss: 1.0080 - val_accuracy: 0.6897\n",
            "Epoch 4/30\n",
            "398/398 [==============================] - 76s 192ms/step - loss: 0.9682 - accuracy: 0.6907 - val_loss: 0.9112 - val_accuracy: 0.7095\n",
            "Epoch 5/30\n",
            "398/398 [==============================] - 77s 194ms/step - loss: 0.8590 - accuracy: 0.7316 - val_loss: 0.8349 - val_accuracy: 0.7396\n",
            "Epoch 6/30\n",
            "398/398 [==============================] - 82s 206ms/step - loss: 0.7811 - accuracy: 0.7521 - val_loss: 0.7625 - val_accuracy: 0.7607\n",
            "Epoch 7/30\n",
            "398/398 [==============================] - 76s 191ms/step - loss: 0.7144 - accuracy: 0.7748 - val_loss: 0.7025 - val_accuracy: 0.7808\n",
            "Epoch 8/30\n",
            "398/398 [==============================] - 76s 190ms/step - loss: 0.6655 - accuracy: 0.7878 - val_loss: 0.6723 - val_accuracy: 0.7902\n",
            "Epoch 9/30\n",
            "398/398 [==============================] - 77s 193ms/step - loss: 0.6231 - accuracy: 0.7982 - val_loss: 0.6554 - val_accuracy: 0.7927\n",
            "Epoch 10/30\n",
            "398/398 [==============================] - 77s 192ms/step - loss: 0.5767 - accuracy: 0.8172 - val_loss: 0.6167 - val_accuracy: 0.8024\n",
            "Epoch 11/30\n",
            "398/398 [==============================] - 82s 206ms/step - loss: 0.5472 - accuracy: 0.8261 - val_loss: 0.6025 - val_accuracy: 0.8065\n",
            "Epoch 12/30\n",
            "398/398 [==============================] - 77s 193ms/step - loss: 0.5178 - accuracy: 0.8362 - val_loss: 0.5947 - val_accuracy: 0.8141\n",
            "Epoch 13/30\n",
            "398/398 [==============================] - 77s 193ms/step - loss: 0.4795 - accuracy: 0.8473 - val_loss: 0.5683 - val_accuracy: 0.8197\n",
            "Epoch 14/30\n",
            "398/398 [==============================] - 77s 193ms/step - loss: 0.4582 - accuracy: 0.8549 - val_loss: 0.5627 - val_accuracy: 0.8185\n",
            "Epoch 15/30\n",
            "398/398 [==============================] - 77s 194ms/step - loss: 0.4332 - accuracy: 0.8637 - val_loss: 0.5403 - val_accuracy: 0.8295\n",
            "Epoch 16/30\n",
            "398/398 [==============================] - 76s 192ms/step - loss: 0.4144 - accuracy: 0.8719 - val_loss: 0.5459 - val_accuracy: 0.8273\n",
            "Epoch 17/30\n",
            "398/398 [==============================] - 77s 194ms/step - loss: 0.3901 - accuracy: 0.8773 - val_loss: 0.5251 - val_accuracy: 0.8317\n",
            "Epoch 18/30\n",
            "398/398 [==============================] - 77s 192ms/step - loss: 0.3633 - accuracy: 0.8884 - val_loss: 0.5156 - val_accuracy: 0.8317\n",
            "Epoch 19/30\n",
            "398/398 [==============================] - 77s 192ms/step - loss: 0.3496 - accuracy: 0.8902 - val_loss: 0.5257 - val_accuracy: 0.8335\n",
            "Epoch 20/30\n",
            "398/398 [==============================] - 76s 190ms/step - loss: 0.3307 - accuracy: 0.9005 - val_loss: 0.4951 - val_accuracy: 0.8445\n",
            "Epoch 21/30\n",
            "398/398 [==============================] - 77s 192ms/step - loss: 0.3192 - accuracy: 0.9006 - val_loss: 0.4959 - val_accuracy: 0.8436\n",
            "Epoch 22/30\n",
            "398/398 [==============================] - 77s 192ms/step - loss: 0.2978 - accuracy: 0.9100 - val_loss: 0.5269 - val_accuracy: 0.8335\n",
            "Epoch 23/30\n",
            "398/398 [==============================] - 83s 208ms/step - loss: 0.2818 - accuracy: 0.9139 - val_loss: 0.4806 - val_accuracy: 0.8492\n",
            "Epoch 24/30\n",
            "398/398 [==============================] - 77s 193ms/step - loss: 0.2699 - accuracy: 0.9193 - val_loss: 0.4877 - val_accuracy: 0.8414\n",
            "Epoch 25/30\n",
            "398/398 [==============================] - 76s 191ms/step - loss: 0.2513 - accuracy: 0.9250 - val_loss: 0.4674 - val_accuracy: 0.8492\n",
            "Epoch 26/30\n",
            "398/398 [==============================] - 77s 194ms/step - loss: 0.2429 - accuracy: 0.9262 - val_loss: 0.4851 - val_accuracy: 0.8492\n",
            "Epoch 27/30\n",
            "398/398 [==============================] - 78s 195ms/step - loss: 0.2307 - accuracy: 0.9299 - val_loss: 0.4798 - val_accuracy: 0.8505\n",
            "Epoch 28/30\n",
            "398/398 [==============================] - 77s 193ms/step - loss: 0.2193 - accuracy: 0.9341 - val_loss: 0.4693 - val_accuracy: 0.8508\n",
            "Epoch 29/30\n",
            "398/398 [==============================] - 77s 194ms/step - loss: 0.2055 - accuracy: 0.9383 - val_loss: 0.4726 - val_accuracy: 0.8527\n",
            "Epoch 30/30\n",
            "398/398 [==============================] - 76s 191ms/step - loss: 0.1962 - accuracy: 0.9422 - val_loss: 0.4627 - val_accuracy: 0.8562\n"
          ]
        }
      ]
    },
    {
      "cell_type": "code",
      "source": [
        "# Plot training & validation accuracy values\n",
        "plt.plot(history_max_avg_pooling_v5.history['accuracy'])\n",
        "plt.plot(history_max_avg_pooling_v5.history['val_accuracy'])\n",
        "plt.title('Model accuracy')\n",
        "plt.ylabel('Accuracy')\n",
        "plt.xlabel('Epoch')\n",
        "plt.legend(['Train', 'Validation'], loc='upper left')\n",
        "plt.show()"
      ],
      "metadata": {
        "colab": {
          "base_uri": "https://localhost:8080/",
          "height": 295
        },
        "id": "yV0ZJAnhUu1Q",
        "outputId": "34e037ad-d1d8-44d6-c292-6b1e5adf6778"
      },
      "execution_count": 18,
      "outputs": [
        {
          "output_type": "display_data",
          "data": {
            "text/plain": [
              "<Figure size 432x288 with 1 Axes>"
            ],
            "image/png": "[encoded data removed]"
          },
          "metadata": {
            "needs_background": "light"
          }
        }
      ]
    },
    {
      "cell_type": "code",
      "source": [],
      "metadata": {
        "id": "EgHvQD_kUu3x"
      },
      "execution_count": null,
      "outputs": []
    },
    {
      "cell_type": "code",
      "source": [],
      "metadata": {
        "id": "0GccchW0Uu6H"
      },
      "execution_count": null,
      "outputs": []
    },
    {
      "cell_type": "code",
      "source": [],
      "metadata": {
        "id": "zpaZPlNJUnPB"
      },
      "execution_count": null,
      "outputs": []
    },
    {
      "cell_type": "code",
      "source": [],
      "metadata": {
        "id": "eTZracyfM1Es"
      },
      "execution_count": null,
      "outputs": []
    },
    {
      "cell_type": "code",
      "source": [],
      "metadata": {
        "id": "jXLSeXFnM1HL"
      },
      "execution_count": null,
      "outputs": []
    },
    {
      "cell_type": "code",
      "source": [],
      "metadata": {
        "id": "tg06DX24M1Jj"
      },
      "execution_count": null,
      "outputs": []
    },
    {
      "cell_type": "code",
      "source": [],
      "metadata": {
        "id": "xbv2gn0WM1L6"
      },
      "execution_count": null,
      "outputs": []
    },
    {
      "cell_type": "code",
      "source": [
        "# consider taking into account the weights of the classes\n",
        "# consider 'early stopping'\n"
      ],
      "metadata": {
        "id": "4qxepNluwT20"
      },
      "execution_count": null,
      "outputs": []
    },
    {
      "cell_type": "code",
      "source": [
        "bert_preprocess_v4 = hub.KerasLayer(\"https://tfhub.dev/tensorflow/bert_en_uncased_preprocess/3\")\n",
        "bert_model_v4 = hub.KerasLayer(\"https://tfhub.dev/tensorflow/small_bert/bert_en_uncased_L-8_H-512_A-8/1\")"
      ],
      "metadata": {
        "id": "xw-8Q9hXwT5L"
      },
      "execution_count": null,
      "outputs": []
    },
    {
      "cell_type": "code",
      "source": [
        "# Define input layer\n",
        "input_text_v4 = tf.keras.layers.Input(shape=(), dtype=tf.string, name='text')   # define an input tensor --> the input data to the model will be a string of variable length\n",
        "\n",
        "# Preprocess input text\n",
        "text_preprocessed_v4 = bert_preprocess_v4(input_text_v4)                           # This layer converts the input string into a format that can be understood by the BERT model\n",
        "\n",
        "# Encode input text with BERT\n",
        "output_bert_v4 = bert_model_v4(text_preprocessed_v4)                               # This layer encodes the input text using the BERT model and returns the encoded outputs\n",
        "                                                                                # After that, this will be fed into the neural network layers.\n",
        "\n",
        "# Get sequence output\n",
        "sequence_output_v4 = output_bert_v4['sequence_output']\n",
        "\n",
        "# Apply max pooling over sequence output\n",
        "max_pooling_v4 = tf.keras.layers.GlobalMaxPooling1D()(sequence_output_v4)\n",
        "\n",
        "# Apply average pooling over sequence output\n",
        "avg_pooling_v4 = tf.keras.layers.GlobalAveragePooling1D()(sequence_output_v4)\n",
        "\n",
        "# Concatenate max pooled output and pooled output\n",
        "concatenated_v4 = tf.keras.layers.Concatenate()([max_pooling_v4, avg_pooling_v4, output_bert_v4['pooled_output']])\n",
        "\n",
        "# Apply dense layers to concatenated output\n",
        "dense_1_v4 = tf.keras.layers.Dense(512, activation='relu')(concatenated_v4)\n",
        "dense_2_v4 = tf.keras.layers.Dense(256, activation='relu')(dense_1_v4)\n",
        "dense_3_v4 = tf.keras.layers.Dropout(0.1)(dense_2_v4)\n",
        "dense_4_v4 = tf.keras.layers.Dense(128, activation='relu')(dense_3_v4)\n",
        "dense_5_v4 = tf.keras.layers.Dropout(0.1)(dense_4_v4)\n",
        "\n",
        "# Define output layer\n",
        "output_v4 = tf.keras.layers.Dense(trainlabels.shape[1], activation='softmax')(dense_5_v4)\n",
        "\n",
        "# Define the model\n",
        "model_max_avg_pooling_v4 = tf.keras.Model(inputs=input_text_v4, outputs=output_v4)\n",
        "\n",
        "# Freeze the BERT layers\n",
        "bert_model_v4.trainable = False\n",
        "\n",
        "# Compile the model\n",
        "optimizer_v4 = tf.keras.optimizers.Adam(learning_rate=5e-5)\n",
        "model_max_avg_pooling_v4.compile(optimizer=optimizer_v4, loss='categorical_crossentropy', metrics=['accuracy'])"
      ],
      "metadata": {
        "id": "iAMRgf93wT7m"
      },
      "execution_count": null,
      "outputs": []
    },
    {
      "cell_type": "code",
      "source": [
        "train_dataset = tf.data.Dataset.from_tensor_slices((trainfeatures, trainlabels)).batch(32) # create a TensorFlow dataset from the input data tensors, which are typically NumPy arrays or Pandas dataframes\n",
        "val_dataset = tf.data.Dataset.from_tensor_slices((validfeatures, validlabels)).batch(32) "
      ],
      "metadata": {
        "id": "EKcFv9iyp7f_"
      },
      "execution_count": null,
      "outputs": []
    },
    {
      "cell_type": "code",
      "source": [
        "# history_max_avg_pooling_v3 = model_max_avg_pooling_v3.fit(train_dataset, epochs=30, class_weight=class_weights_dict, validation_data=val_dataset)\n",
        "\n",
        "# compute class weights\n",
        "class_weights = class_weight.compute_class_weight('balanced', classes=binarizer.classes_, y=trainlabels_original)\n",
        "\n",
        "# create a dictionary of class weights\n",
        "class_weights_dict = dict(enumerate(class_weights))\n",
        "\n",
        "history_max_avg_pooling_v4 = model_max_avg_pooling_v4.fit(train_dataset, epochs=30, validation_data=val_dataset, class_weight=class_weights_dict)\n"
      ],
      "metadata": {
        "colab": {
          "base_uri": "https://localhost:8080/",
          "height": 760
        },
        "id": "JphSbxxwqOaQ",
        "outputId": "c2c0fdcf-5cd6-44ac-8d15-4d5326483a23"
      },
      "execution_count": null,
      "outputs": [
        {
          "output_type": "stream",
          "name": "stdout",
          "text": [
            "Epoch 1/30\n",
            "398/398 [==============================] - 95s 218ms/step - loss: 2.1184 - accuracy: 0.3146 - val_loss: 1.6025 - val_accuracy: 0.5138\n",
            "Epoch 2/30\n",
            "398/398 [==============================] - 81s 202ms/step - loss: 1.4506 - accuracy: 0.5385 - val_loss: 1.1924 - val_accuracy: 0.6369\n",
            "Epoch 3/30\n",
            "398/398 [==============================] - 79s 198ms/step - loss: 1.1436 - accuracy: 0.6422 - val_loss: 0.9988 - val_accuracy: 0.6878\n",
            "Epoch 4/30\n",
            "398/398 [==============================] - 79s 198ms/step - loss: 0.9741 - accuracy: 0.6933 - val_loss: 0.8825 - val_accuracy: 0.7189\n",
            "Epoch 5/30\n",
            "398/398 [==============================] - 79s 198ms/step - loss: 0.8776 - accuracy: 0.7256 - val_loss: 0.8062 - val_accuracy: 0.7421\n",
            "Epoch 6/30\n",
            "398/398 [==============================] - 79s 198ms/step - loss: 0.7889 - accuracy: 0.7542 - val_loss: 0.7335 - val_accuracy: 0.7648\n",
            "Epoch 7/30\n",
            "398/398 [==============================] - 79s 198ms/step - loss: 0.7237 - accuracy: 0.7781 - val_loss: 0.7068 - val_accuracy: 0.7758\n",
            "Epoch 8/30\n",
            "398/398 [==============================] - 78s 197ms/step - loss: 0.6697 - accuracy: 0.7869 - val_loss: 0.6686 - val_accuracy: 0.7808\n",
            "Epoch 9/30\n",
            "398/398 [==============================] - 79s 198ms/step - loss: 0.6247 - accuracy: 0.8037 - val_loss: 0.6517 - val_accuracy: 0.7877\n",
            "Epoch 10/30\n",
            "398/398 [==============================] - 79s 198ms/step - loss: 0.5801 - accuracy: 0.8197 - val_loss: 0.6164 - val_accuracy: 0.7940\n",
            "Epoch 11/30\n",
            "135/398 [=========>....................] - ETA: 42s - loss: 0.5469 - accuracy: 0.8241"
          ]
        },
        {
          "output_type": "error",
          "ename": "KeyboardInterrupt",
          "evalue": "ignored",
          "traceback": [
            "\u001b[0;31m---------------------------------------------------------------------------\u001b[0m",
            "\u001b[0;31mKeyboardInterrupt\u001b[0m                         Traceback (most recent call last)",
            "\u001b[0;32m<ipython-input-36-717cddf77d07>\u001b[0m in \u001b[0;36m<module>\u001b[0;34m\u001b[0m\n\u001b[1;32m      7\u001b[0m \u001b[0mclass_weights_dict\u001b[0m \u001b[0;34m=\u001b[0m \u001b[0mdict\u001b[0m\u001b[0;34m(\u001b[0m\u001b[0menumerate\u001b[0m\u001b[0;34m(\u001b[0m\u001b[0mclass_weights\u001b[0m\u001b[0;34m)\u001b[0m\u001b[0;34m)\u001b[0m\u001b[0;34m\u001b[0m\u001b[0;34m\u001b[0m\u001b[0m\n\u001b[1;32m      8\u001b[0m \u001b[0;34m\u001b[0m\u001b[0m\n\u001b[0;32m----> 9\u001b[0;31m \u001b[0mhistory_max_avg_pooling_v4\u001b[0m \u001b[0;34m=\u001b[0m \u001b[0mmodel_max_avg_pooling_v4\u001b[0m\u001b[0;34m.\u001b[0m\u001b[0mfit\u001b[0m\u001b[0;34m(\u001b[0m\u001b[0mtrain_dataset\u001b[0m\u001b[0;34m,\u001b[0m \u001b[0mepochs\u001b[0m\u001b[0;34m=\u001b[0m\u001b[0;36m30\u001b[0m\u001b[0;34m,\u001b[0m \u001b[0mvalidation_data\u001b[0m\u001b[0;34m=\u001b[0m\u001b[0mval_dataset\u001b[0m\u001b[0;34m,\u001b[0m \u001b[0mclass_weight\u001b[0m\u001b[0;34m=\u001b[0m\u001b[0mclass_weights_dict\u001b[0m\u001b[0;34m)\u001b[0m\u001b[0;34m\u001b[0m\u001b[0;34m\u001b[0m\u001b[0m\n\u001b[0m",
            "\u001b[0;32m/usr/local/lib/python3.9/dist-packages/keras/utils/traceback_utils.py\u001b[0m in \u001b[0;36merror_handler\u001b[0;34m(*args, **kwargs)\u001b[0m\n\u001b[1;32m     63\u001b[0m         \u001b[0mfiltered_tb\u001b[0m \u001b[0;34m=\u001b[0m \u001b[0;32mNone\u001b[0m\u001b[0;34m\u001b[0m\u001b[0;34m\u001b[0m\u001b[0m\n\u001b[1;32m     64\u001b[0m         \u001b[0;32mtry\u001b[0m\u001b[0;34m:\u001b[0m\u001b[0;34m\u001b[0m\u001b[0;34m\u001b[0m\u001b[0m\n\u001b[0;32m---> 65\u001b[0;31m             \u001b[0;32mreturn\u001b[0m \u001b[0mfn\u001b[0m\u001b[0;34m(\u001b[0m\u001b[0;34m*\u001b[0m\u001b[0margs\u001b[0m\u001b[0;34m,\u001b[0m \u001b[0;34m**\u001b[0m\u001b[0mkwargs\u001b[0m\u001b[0;34m)\u001b[0m\u001b[0;34m\u001b[0m\u001b[0;34m\u001b[0m\u001b[0m\n\u001b[0m\u001b[1;32m     66\u001b[0m         \u001b[0;32mexcept\u001b[0m \u001b[0mException\u001b[0m \u001b[0;32mas\u001b[0m \u001b[0me\u001b[0m\u001b[0;34m:\u001b[0m\u001b[0;34m\u001b[0m\u001b[0;34m\u001b[0m\u001b[0m\n\u001b[1;32m     67\u001b[0m             \u001b[0mfiltered_tb\u001b[0m \u001b[0;34m=\u001b[0m \u001b[0m_process_traceback_frames\u001b[0m\u001b[0;34m(\u001b[0m\u001b[0me\u001b[0m\u001b[0;34m.\u001b[0m\u001b[0m__traceback__\u001b[0m\u001b[0;34m)\u001b[0m\u001b[0;34m\u001b[0m\u001b[0;34m\u001b[0m\u001b[0m\n",
            "\u001b[0;32m/usr/local/lib/python3.9/dist-packages/keras/engine/training.py\u001b[0m in \u001b[0;36mfit\u001b[0;34m(self, x, y, batch_size, epochs, verbose, callbacks, validation_split, validation_data, shuffle, class_weight, sample_weight, initial_epoch, steps_per_epoch, validation_steps, validation_batch_size, validation_freq, max_queue_size, workers, use_multiprocessing)\u001b[0m\n\u001b[1;32m   1648\u001b[0m                         ):\n\u001b[1;32m   1649\u001b[0m                             \u001b[0mcallbacks\u001b[0m\u001b[0;34m.\u001b[0m\u001b[0mon_train_batch_begin\u001b[0m\u001b[0;34m(\u001b[0m\u001b[0mstep\u001b[0m\u001b[0;34m)\u001b[0m\u001b[0;34m\u001b[0m\u001b[0;34m\u001b[0m\u001b[0m\n\u001b[0;32m-> 1650\u001b[0;31m                             \u001b[0mtmp_logs\u001b[0m \u001b[0;34m=\u001b[0m \u001b[0mself\u001b[0m\u001b[0;34m.\u001b[0m\u001b[0mtrain_function\u001b[0m\u001b[0;34m(\u001b[0m\u001b[0miterator\u001b[0m\u001b[0;34m)\u001b[0m\u001b[0;34m\u001b[0m\u001b[0;34m\u001b[0m\u001b[0m\n\u001b[0m\u001b[1;32m   1651\u001b[0m                             \u001b[0;32mif\u001b[0m \u001b[0mdata_handler\u001b[0m\u001b[0;34m.\u001b[0m\u001b[0mshould_sync\u001b[0m\u001b[0;34m:\u001b[0m\u001b[0;34m\u001b[0m\u001b[0;34m\u001b[0m\u001b[0m\n\u001b[1;32m   1652\u001b[0m                                 \u001b[0mcontext\u001b[0m\u001b[0;34m.\u001b[0m\u001b[0masync_wait\u001b[0m\u001b[0;34m(\u001b[0m\u001b[0;34m)\u001b[0m\u001b[0;34m\u001b[0m\u001b[0;34m\u001b[0m\u001b[0m\n",
            "\u001b[0;32m/usr/local/lib/python3.9/dist-packages/tensorflow/python/util/traceback_utils.py\u001b[0m in \u001b[0;36merror_handler\u001b[0;34m(*args, **kwargs)\u001b[0m\n\u001b[1;32m    148\u001b[0m     \u001b[0mfiltered_tb\u001b[0m \u001b[0;34m=\u001b[0m \u001b[0;32mNone\u001b[0m\u001b[0;34m\u001b[0m\u001b[0;34m\u001b[0m\u001b[0m\n\u001b[1;32m    149\u001b[0m     \u001b[0;32mtry\u001b[0m\u001b[0;34m:\u001b[0m\u001b[0;34m\u001b[0m\u001b[0;34m\u001b[0m\u001b[0m\n\u001b[0;32m--> 150\u001b[0;31m       \u001b[0;32mreturn\u001b[0m \u001b[0mfn\u001b[0m\u001b[0;34m(\u001b[0m\u001b[0;34m*\u001b[0m\u001b[0margs\u001b[0m\u001b[0;34m,\u001b[0m \u001b[0;34m**\u001b[0m\u001b[0mkwargs\u001b[0m\u001b[0;34m)\u001b[0m\u001b[0;34m\u001b[0m\u001b[0;34m\u001b[0m\u001b[0m\n\u001b[0m\u001b[1;32m    151\u001b[0m     \u001b[0;32mexcept\u001b[0m \u001b[0mException\u001b[0m \u001b[0;32mas\u001b[0m \u001b[0me\u001b[0m\u001b[0;34m:\u001b[0m\u001b[0;34m\u001b[0m\u001b[0;34m\u001b[0m\u001b[0m\n\u001b[1;32m    152\u001b[0m       \u001b[0mfiltered_tb\u001b[0m \u001b[0;34m=\u001b[0m \u001b[0m_process_traceback_frames\u001b[0m\u001b[0;34m(\u001b[0m\u001b[0me\u001b[0m\u001b[0;34m.\u001b[0m\u001b[0m__traceback__\u001b[0m\u001b[0;34m)\u001b[0m\u001b[0;34m\u001b[0m\u001b[0;34m\u001b[0m\u001b[0m\n",
            "\u001b[0;32m/usr/local/lib/python3.9/dist-packages/tensorflow/python/eager/polymorphic_function/polymorphic_function.py\u001b[0m in \u001b[0;36m__call__\u001b[0;34m(self, *args, **kwds)\u001b[0m\n\u001b[1;32m    878\u001b[0m \u001b[0;34m\u001b[0m\u001b[0m\n\u001b[1;32m    879\u001b[0m       \u001b[0;32mwith\u001b[0m \u001b[0mOptionalXlaContext\u001b[0m\u001b[0;34m(\u001b[0m\u001b[0mself\u001b[0m\u001b[0;34m.\u001b[0m\u001b[0m_jit_compile\u001b[0m\u001b[0;34m)\u001b[0m\u001b[0;34m:\u001b[0m\u001b[0;34m\u001b[0m\u001b[0;34m\u001b[0m\u001b[0m\n\u001b[0;32m--> 880\u001b[0;31m         \u001b[0mresult\u001b[0m \u001b[0;34m=\u001b[0m \u001b[0mself\u001b[0m\u001b[0;34m.\u001b[0m\u001b[0m_call\u001b[0m\u001b[0;34m(\u001b[0m\u001b[0;34m*\u001b[0m\u001b[0margs\u001b[0m\u001b[0;34m,\u001b[0m \u001b[0;34m**\u001b[0m\u001b[0mkwds\u001b[0m\u001b[0;34m)\u001b[0m\u001b[0;34m\u001b[0m\u001b[0;34m\u001b[0m\u001b[0m\n\u001b[0m\u001b[1;32m    881\u001b[0m \u001b[0;34m\u001b[0m\u001b[0m\n\u001b[1;32m    882\u001b[0m       \u001b[0mnew_tracing_count\u001b[0m \u001b[0;34m=\u001b[0m \u001b[0mself\u001b[0m\u001b[0;34m.\u001b[0m\u001b[0mexperimental_get_tracing_count\u001b[0m\u001b[0;34m(\u001b[0m\u001b[0;34m)\u001b[0m\u001b[0;34m\u001b[0m\u001b[0;34m\u001b[0m\u001b[0m\n",
            "\u001b[0;32m/usr/local/lib/python3.9/dist-packages/tensorflow/python/eager/polymorphic_function/polymorphic_function.py\u001b[0m in \u001b[0;36m_call\u001b[0;34m(self, *args, **kwds)\u001b[0m\n\u001b[1;32m    910\u001b[0m       \u001b[0;31m# In this case we have created variables on the first call, so we run the\u001b[0m\u001b[0;34m\u001b[0m\u001b[0;34m\u001b[0m\u001b[0m\n\u001b[1;32m    911\u001b[0m       \u001b[0;31m# defunned version which is guaranteed to never create variables.\u001b[0m\u001b[0;34m\u001b[0m\u001b[0;34m\u001b[0m\u001b[0m\n\u001b[0;32m--> 912\u001b[0;31m       \u001b[0;32mreturn\u001b[0m \u001b[0mself\u001b[0m\u001b[0;34m.\u001b[0m\u001b[0m_no_variable_creation_fn\u001b[0m\u001b[0;34m(\u001b[0m\u001b[0;34m*\u001b[0m\u001b[0margs\u001b[0m\u001b[0;34m,\u001b[0m \u001b[0;34m**\u001b[0m\u001b[0mkwds\u001b[0m\u001b[0;34m)\u001b[0m  \u001b[0;31m# pylint: disable=not-callable\u001b[0m\u001b[0;34m\u001b[0m\u001b[0;34m\u001b[0m\u001b[0m\n\u001b[0m\u001b[1;32m    913\u001b[0m     \u001b[0;32melif\u001b[0m \u001b[0mself\u001b[0m\u001b[0;34m.\u001b[0m\u001b[0m_variable_creation_fn\u001b[0m \u001b[0;32mis\u001b[0m \u001b[0;32mnot\u001b[0m \u001b[0;32mNone\u001b[0m\u001b[0;34m:\u001b[0m\u001b[0;34m\u001b[0m\u001b[0;34m\u001b[0m\u001b[0m\n\u001b[1;32m    914\u001b[0m       \u001b[0;31m# Release the lock early so that multiple threads can perform the call\u001b[0m\u001b[0;34m\u001b[0m\u001b[0;34m\u001b[0m\u001b[0m\n",
            "\u001b[0;32m/usr/local/lib/python3.9/dist-packages/tensorflow/python/eager/polymorphic_function/tracing_compiler.py\u001b[0m in \u001b[0;36m__call__\u001b[0;34m(self, *args, **kwargs)\u001b[0m\n\u001b[1;32m    132\u001b[0m       (concrete_function,\n\u001b[1;32m    133\u001b[0m        filtered_flat_args) = self._maybe_define_function(args, kwargs)\n\u001b[0;32m--> 134\u001b[0;31m     return concrete_function._call_flat(\n\u001b[0m\u001b[1;32m    135\u001b[0m         filtered_flat_args, captured_inputs=concrete_function.captured_inputs)  # pylint: disable=protected-access\n\u001b[1;32m    136\u001b[0m \u001b[0;34m\u001b[0m\u001b[0m\n",
            "\u001b[0;32m/usr/local/lib/python3.9/dist-packages/tensorflow/python/eager/polymorphic_function/monomorphic_function.py\u001b[0m in \u001b[0;36m_call_flat\u001b[0;34m(self, args, captured_inputs, cancellation_manager)\u001b[0m\n\u001b[1;32m   1743\u001b[0m         and executing_eagerly):\n\u001b[1;32m   1744\u001b[0m       \u001b[0;31m# No tape is watching; skip to running the function.\u001b[0m\u001b[0;34m\u001b[0m\u001b[0;34m\u001b[0m\u001b[0m\n\u001b[0;32m-> 1745\u001b[0;31m       return self._build_call_outputs(self._inference_function.call(\n\u001b[0m\u001b[1;32m   1746\u001b[0m           ctx, args, cancellation_manager=cancellation_manager))\n\u001b[1;32m   1747\u001b[0m     forward_backward = self._select_forward_and_backward_functions(\n",
            "\u001b[0;32m/usr/local/lib/python3.9/dist-packages/tensorflow/python/eager/polymorphic_function/monomorphic_function.py\u001b[0m in \u001b[0;36mcall\u001b[0;34m(self, ctx, args, cancellation_manager)\u001b[0m\n\u001b[1;32m    376\u001b[0m       \u001b[0;32mwith\u001b[0m \u001b[0m_InterpolateFunctionError\u001b[0m\u001b[0;34m(\u001b[0m\u001b[0mself\u001b[0m\u001b[0;34m)\u001b[0m\u001b[0;34m:\u001b[0m\u001b[0;34m\u001b[0m\u001b[0;34m\u001b[0m\u001b[0m\n\u001b[1;32m    377\u001b[0m         \u001b[0;32mif\u001b[0m \u001b[0mcancellation_manager\u001b[0m \u001b[0;32mis\u001b[0m \u001b[0;32mNone\u001b[0m\u001b[0;34m:\u001b[0m\u001b[0;34m\u001b[0m\u001b[0;34m\u001b[0m\u001b[0m\n\u001b[0;32m--> 378\u001b[0;31m           outputs = execute.execute(\n\u001b[0m\u001b[1;32m    379\u001b[0m               \u001b[0mstr\u001b[0m\u001b[0;34m(\u001b[0m\u001b[0mself\u001b[0m\u001b[0;34m.\u001b[0m\u001b[0msignature\u001b[0m\u001b[0;34m.\u001b[0m\u001b[0mname\u001b[0m\u001b[0;34m)\u001b[0m\u001b[0;34m,\u001b[0m\u001b[0;34m\u001b[0m\u001b[0;34m\u001b[0m\u001b[0m\n\u001b[1;32m    380\u001b[0m               \u001b[0mnum_outputs\u001b[0m\u001b[0;34m=\u001b[0m\u001b[0mself\u001b[0m\u001b[0;34m.\u001b[0m\u001b[0m_num_outputs\u001b[0m\u001b[0;34m,\u001b[0m\u001b[0;34m\u001b[0m\u001b[0;34m\u001b[0m\u001b[0m\n",
            "\u001b[0;32m/usr/local/lib/python3.9/dist-packages/tensorflow/python/eager/execute.py\u001b[0m in \u001b[0;36mquick_execute\u001b[0;34m(op_name, num_outputs, inputs, attrs, ctx, name)\u001b[0m\n\u001b[1;32m     50\u001b[0m   \u001b[0;32mtry\u001b[0m\u001b[0;34m:\u001b[0m\u001b[0;34m\u001b[0m\u001b[0;34m\u001b[0m\u001b[0m\n\u001b[1;32m     51\u001b[0m     \u001b[0mctx\u001b[0m\u001b[0;34m.\u001b[0m\u001b[0mensure_initialized\u001b[0m\u001b[0;34m(\u001b[0m\u001b[0;34m)\u001b[0m\u001b[0;34m\u001b[0m\u001b[0;34m\u001b[0m\u001b[0m\n\u001b[0;32m---> 52\u001b[0;31m     tensors = pywrap_tfe.TFE_Py_Execute(ctx._handle, device_name, op_name,\n\u001b[0m\u001b[1;32m     53\u001b[0m                                         inputs, attrs, num_outputs)\n\u001b[1;32m     54\u001b[0m   \u001b[0;32mexcept\u001b[0m \u001b[0mcore\u001b[0m\u001b[0;34m.\u001b[0m\u001b[0m_NotOkStatusException\u001b[0m \u001b[0;32mas\u001b[0m \u001b[0me\u001b[0m\u001b[0;34m:\u001b[0m\u001b[0;34m\u001b[0m\u001b[0;34m\u001b[0m\u001b[0m\n",
            "\u001b[0;31mKeyboardInterrupt\u001b[0m: "
          ]
        }
      ]
    },
    {
      "cell_type": "code",
      "source": [
        "# Plot training & validation accuracy values\n",
        "plt.plot(history_max_avg_pooling_v3.history['accuracy'])\n",
        "plt.plot(history_max_avg_pooling_v3.history['val_accuracy'])\n",
        "plt.title('Model accuracy')\n",
        "plt.ylabel('Accuracy')\n",
        "plt.xlabel('Epoch')\n",
        "plt.legend(['Train', 'Validation'], loc='upper left')\n",
        "plt.show()"
      ],
      "metadata": {
        "id": "d4EhZSY-p7ik"
      },
      "execution_count": null,
      "outputs": []
    },
    {
      "cell_type": "code",
      "source": [],
      "metadata": {
        "id": "ID5FfQs8udQl"
      },
      "execution_count": null,
      "outputs": []
    },
    {
      "cell_type": "code",
      "source": [],
      "metadata": {
        "id": "37fMew6LqEX3"
      },
      "execution_count": null,
      "outputs": []
    },
    {
      "cell_type": "code",
      "source": [],
      "metadata": {
        "id": "bKgb86WLqEaH"
      },
      "execution_count": null,
      "outputs": []
    },
    {
      "cell_type": "code",
      "source": [],
      "metadata": {
        "id": "nAFD556MqEcu"
      },
      "execution_count": null,
      "outputs": []
    },
    {
      "cell_type": "code",
      "source": [],
      "metadata": {
        "id": "7z_nM8qjqEfG"
      },
      "execution_count": null,
      "outputs": []
    },
    {
      "cell_type": "code",
      "source": [],
      "metadata": {
        "id": "_ItlCSo0qEhn"
      },
      "execution_count": null,
      "outputs": []
    },
    {
      "cell_type": "code",
      "source": [],
      "metadata": {
        "id": "NfveUY0uqEkB"
      },
      "execution_count": null,
      "outputs": []
    },
    {
      "cell_type": "code",
      "source": [],
      "metadata": {
        "id": "fHPxr9HwNupJ"
      },
      "execution_count": null,
      "outputs": []
    },
    {
      "cell_type": "markdown",
      "source": [
        "\n",
        "\n",
        "---\n",
        "\n"
      ],
      "metadata": {
        "id": "fJpcHdTkP_dV"
      }
    },
    {
      "cell_type": "markdown",
      "source": [
        "# Notes"
      ],
      "metadata": {
        "id": "LWKSOkQ5P9bb"
      }
    },
    {
      "cell_type": "markdown",
      "source": [
        "*   서빙:\n",
        "\n",
        "    *   데이터를 받으면 ML 모델의 predict 함수를 부른 다음에 그 결과값을 반환하는 일련의 행위 자체를, 사용자가 직접 코드를 돌려보는게 아니라 서버에서 API 형태로 제공하는 서비스\n",
        "    *   이를 위해서는, 그러한 모델이 (혹은 API 서버가) OS 라던지 특정 Python 패키지에 의존성이 없도록 container 나 VM 기반으로 패키징 되어있어야됨 → __모델 패키징__\n",
        "          *    기본적인 Rest API 서빙 framework: *Docker*, *Flask*, *FastAPI*\n",
        "          *    ML 모델에 특화된 API 서빙 framework: BentoML, *Kubeflow*, TFServing, seldon-core\n",
        "\n",
        "    *   서빙 후에도 환경이 제대로 돌아가고 있는지, model의 성능이 떨어지고 있지 않는지와 같은 metric 을 지속적으로 모니터링해야되고, 문제가 생기면 알람을 받고, 이러한 것들을 자동화해야됨 → 서빙 모니터링\n",
        "          *    Prometheus, Grafana, Thanos \n",
        "    *   서빙 시, 모델의 성능이 떨어지면 예전 모델로 롤백 한다거나 A/B Testing을 한다거나 이러한 성능 확인을 위해서 이전 모델 학습과정 전체를 다시 돌려보고 싶은 경우가 생길 수 있는데 이를 위해서는 모델 개발 단계부터 단순한 파이썬 코드가 아니라 특정한 파이프라인 형태로 개발을 해야 재사용이 가능하고 재현이 가능함 → 파이프라인 매니징\n",
        "          *   Kubeflow, argo workflows, Airflow\n",
        "\n",
        "\n",
        "\n",
        "\n"
      ],
      "metadata": {
        "id": "oIsP9j99QDHD"
      }
    },
    {
      "cell_type": "code",
      "source": [
        "# See this video for ModelDB (model management using Kubeflow)\n",
        "# https://www.youtube.com/watch?v=6wWdNg0GMV4\n"
      ],
      "metadata": {
        "id": "CDul1ShDNumj"
      },
      "execution_count": null,
      "outputs": []
    },
    {
      "cell_type": "code",
      "source": [],
      "metadata": {
        "id": "5DUNZ1nW-Le0"
      },
      "execution_count": null,
      "outputs": []
    },
    {
      "cell_type": "markdown",
      "source": [
        "\n",
        "\n",
        "---\n",
        "\n"
      ],
      "metadata": {
        "id": "PC5L7isTQBes"
      }
    },
    {
      "cell_type": "code",
      "source": [],
      "metadata": {
        "id": "0_txGw6H-LiR"
      },
      "execution_count": null,
      "outputs": []
    },
    {
      "cell_type": "code",
      "source": [
        "bert_model = hub.KerasLayer(\"https://tfhub.dev/tensorflow/small_bert/bert_en_uncased_L-8_H-512_A-8/1\")\n",
        "\n",
        "def intent_classification_bert():\n",
        "  \n",
        "  # Initializing the BERT layers\n",
        "  input_text = tf.keras.layers.Input(shape=(), dtype=tf.string, name='text') # define an input tensor --> the input data to the model will be a string of variable length\n",
        "  text_preprocessed = bert_preprocess(input_text) # This layer converts the input string into a format that can be understood by the BERT model\n",
        "  output_bert = bert_model(text_preprocessed) # This layer encodes the input text using the BERT model and returns the encoded outputs\n",
        "                                              # After that, this will be fed into the neural network layers.\n",
        "\n",
        "  # Initializing the neural network layers\n",
        "  encoded_text = output_bert['pooled_output']\n",
        "  layer_1 = tf.keras.layers.Dense(512, activation='relu')(encoded_text)\n",
        "  layer_2 = tf.keras.layers.Dense(256, activation='relu')(layer_1)\n",
        "  layer_3 = tf.keras.layers.Dense(128, activation='relu')(layer_2)\n",
        "  layer_4 = tf.keras.layers.Dropout(0.1)(layer_3) # This layer will be used to prevent model overfitting\n",
        "                                                                                 # We will use 0.1% of the neurons to handle overfitting\n",
        "  output = tf.keras.layers.Dense(trainlabels.shape[1], activation='softmax')(layer_4)  # It only has one neuron. We also initialize the activation function as sigmoid. \n",
        "                                                                                 # sigmoid is used when we have output values that between 0 and 1. \n",
        "                                                                                 # In our case, when making predictions, \n",
        "                                                                                 # the prediction probability will lie between 0 and 1. That’s why it is best suited.\n",
        "                                                                                 # We also name the layer as output because this is our output layer.\n",
        "  return tf.keras.Model(input_text, output)"
      ],
      "metadata": {
        "id": "OUN8D3SiSU2J"
      },
      "execution_count": null,
      "outputs": []
    },
    {
      "cell_type": "code",
      "source": [
        "classifier_model = intent_classification_bert()\n",
        "\n",
        "loss = tf.keras.losses.CategoricalCrossentropy(from_logits=True) # Since this is a non-binary classification problem and the model outputs probabilities, \n",
        "                                                                 # you’ll use losses.CategoricalCrossentropy loss function.\n",
        "metrics = tf.metrics.CategoricalAccuracy()"
      ],
      "metadata": {
        "colab": {
          "base_uri": "https://localhost:8080/"
        },
        "id": "iOCI10Y6SU4S",
        "outputId": "914e5ff2-f105-442b-86db-9450edac290a"
      },
      "execution_count": null,
      "outputs": [
        {
          "output_type": "stream",
          "name": "stderr",
          "text": [
            "WARNING:tensorflow:From /usr/local/lib/python3.9/dist-packages/tensorflow/python/autograph/pyct/static_analysis/liveness.py:83: Analyzer.lamba_check (from tensorflow.python.autograph.pyct.static_analysis.liveness) is deprecated and will be removed after 2023-09-23.\n",
            "Instructions for updating:\n",
            "Lambda fuctions will be no more assumed to be used in the statement where they are used, or at least in the same block. https://github.com/tensorflow/tensorflow/issues/56089\n"
          ]
        }
      ]
    },
    {
      "cell_type": "code",
      "source": [
        "epochs=20\n",
        "optimizer=tf.keras.optimizers.Adam(1e-5)\n",
        "classifier_model.compile(optimizer=optimizer,\n",
        "                         loss=loss,\n",
        "                         metrics=metrics)"
      ],
      "metadata": {
        "id": "zEcVTpzZSU63"
      },
      "execution_count": null,
      "outputs": []
    },
    {
      "cell_type": "code",
      "source": [
        "history = classifier_model.fit(x=trainfeatures, y=trainlabels,\n",
        "                               validation_data=(validfeatures,validlabels),\n",
        "                               batch_size=32,\n",
        "                               #class_weight=class_weights_dict,\n",
        "                               epochs=epochs)"
      ],
      "metadata": {
        "colab": {
          "base_uri": "https://localhost:8080/"
        },
        "id": "HpKPOFsDSU9H",
        "outputId": "01b54abc-dd06-42e5-9680-6b013123cf24"
      },
      "execution_count": null,
      "outputs": [
        {
          "output_type": "stream",
          "name": "stdout",
          "text": [
            "Epoch 1/20\n"
          ]
        },
        {
          "output_type": "stream",
          "name": "stderr",
          "text": [
            "/usr/local/lib/python3.9/dist-packages/keras/backend.py:5534: UserWarning: \"`categorical_crossentropy` received `from_logits=True`, but the `output` argument was produced by a Softmax activation and thus does not represent logits. Was this intended?\n",
            "  output, from_logits = _get_logits(\n"
          ]
        },
        {
          "output_type": "stream",
          "name": "stdout",
          "text": [
            "398/398 [==============================] - ETA: 0s - loss: 2.5312 - categorical_accuracy: 0.1350"
          ]
        },
        {
          "output_type": "stream",
          "name": "stderr",
          "text": [
            "/usr/local/lib/python3.9/dist-packages/keras/backend.py:5534: UserWarning: \"`categorical_crossentropy` received `from_logits=True`, but the `output` argument was produced by a Softmax activation and thus does not represent logits. Was this intended?\n",
            "  output, from_logits = _get_logits(\n"
          ]
        },
        {
          "output_type": "stream",
          "name": "stdout",
          "text": [
            "\b\b\b\b\b\b\b\b\b\b\b\b\b\b\b\b\b\b\b\b\b\b\b\b\b\b\b\b\b\b\b\b\b\b\b\b\b\b\b\b\b\b\b\b\b\b\b\b\b\b\b\b\b\b\b\b\b\b\b\b\b\b\b\b\b\b\b\b\b\b\b\b\b\b\b\b\b\b\b\b\b\b\b\b\b\b\b\b\b\b\b\b\b\b\b\b\r398/398 [==============================] - 99s 219ms/step - loss: 2.5312 - categorical_accuracy: 0.1350 - val_loss: 2.4293 - val_categorical_accuracy: 0.2220\n",
            "Epoch 2/20\n",
            "398/398 [==============================] - 87s 218ms/step - loss: 2.3493 - categorical_accuracy: 0.2544 - val_loss: 2.2450 - val_categorical_accuracy: 0.3194\n",
            "Epoch 3/20\n",
            "398/398 [==============================] - 86s 217ms/step - loss: 2.1798 - categorical_accuracy: 0.3273 - val_loss: 2.0829 - val_categorical_accuracy: 0.3728\n",
            "Epoch 4/20\n",
            "398/398 [==============================] - 82s 206ms/step - loss: 2.0371 - categorical_accuracy: 0.3653 - val_loss: 1.9543 - val_categorical_accuracy: 0.4130\n",
            "Epoch 5/20\n",
            "398/398 [==============================] - 87s 218ms/step - loss: 1.9231 - categorical_accuracy: 0.4022 - val_loss: 1.8528 - val_categorical_accuracy: 0.4400\n",
            "Epoch 6/20\n",
            "398/398 [==============================] - 86s 217ms/step - loss: 1.8315 - categorical_accuracy: 0.4286 - val_loss: 1.7696 - val_categorical_accuracy: 0.4614\n",
            "Epoch 7/20\n",
            "398/398 [==============================] - 87s 220ms/step - loss: 1.7533 - categorical_accuracy: 0.4540 - val_loss: 1.6989 - val_categorical_accuracy: 0.4843\n",
            "Epoch 8/20\n",
            "398/398 [==============================] - 86s 217ms/step - loss: 1.6893 - categorical_accuracy: 0.4766 - val_loss: 1.6381 - val_categorical_accuracy: 0.5025\n",
            "Epoch 9/20\n",
            "398/398 [==============================] - 87s 217ms/step - loss: 1.6306 - categorical_accuracy: 0.4912 - val_loss: 1.5833 - val_categorical_accuracy: 0.5229\n",
            "Epoch 10/20\n",
            "398/398 [==============================] - 86s 217ms/step - loss: 1.5839 - categorical_accuracy: 0.5054 - val_loss: 1.5397 - val_categorical_accuracy: 0.5292\n",
            "Epoch 11/20\n",
            "398/398 [==============================] - 86s 215ms/step - loss: 1.5430 - categorical_accuracy: 0.5193 - val_loss: 1.5012 - val_categorical_accuracy: 0.5349\n",
            "Epoch 12/20\n",
            "398/398 [==============================] - 81s 204ms/step - loss: 1.5006 - categorical_accuracy: 0.5319 - val_loss: 1.4654 - val_categorical_accuracy: 0.5540\n",
            "Epoch 13/20\n",
            "398/398 [==============================] - 85s 213ms/step - loss: 1.4675 - categorical_accuracy: 0.5410 - val_loss: 1.4320 - val_categorical_accuracy: 0.5625\n",
            "Epoch 14/20\n",
            "398/398 [==============================] - 87s 219ms/step - loss: 1.4385 - categorical_accuracy: 0.5490 - val_loss: 1.4095 - val_categorical_accuracy: 0.5669\n",
            "Epoch 15/20\n",
            "398/398 [==============================] - 86s 217ms/step - loss: 1.4036 - categorical_accuracy: 0.5622 - val_loss: 1.3770 - val_categorical_accuracy: 0.5810\n",
            "Epoch 16/20\n",
            "398/398 [==============================] - 86s 216ms/step - loss: 1.3851 - categorical_accuracy: 0.5667 - val_loss: 1.3545 - val_categorical_accuracy: 0.5823\n",
            "Epoch 17/20\n",
            "398/398 [==============================] - 80s 201ms/step - loss: 1.3565 - categorical_accuracy: 0.5804 - val_loss: 1.3331 - val_categorical_accuracy: 0.5864\n",
            "Epoch 18/20\n",
            "398/398 [==============================] - 86s 217ms/step - loss: 1.3306 - categorical_accuracy: 0.5844 - val_loss: 1.3143 - val_categorical_accuracy: 0.5886\n",
            "Epoch 19/20\n",
            "398/398 [==============================] - 85s 215ms/step - loss: 1.3102 - categorical_accuracy: 0.5867 - val_loss: 1.2982 - val_categorical_accuracy: 0.5930\n",
            "Epoch 20/20\n",
            "398/398 [==============================] - 85s 214ms/step - loss: 1.2881 - categorical_accuracy: 0.5946 - val_loss: 1.2769 - val_categorical_accuracy: 0.6077\n"
          ]
        }
      ]
    },
    {
      "cell_type": "code",
      "source": [],
      "metadata": {
        "id": "_YejhDbid3vM"
      },
      "execution_count": null,
      "outputs": []
    },
    {
      "cell_type": "code",
      "source": [],
      "metadata": {
        "id": "8DmSmaH0d30G"
      },
      "execution_count": null,
      "outputs": []
    },
    {
      "cell_type": "code",
      "source": [],
      "metadata": {
        "id": "_XSSnAdUq_on"
      },
      "execution_count": null,
      "outputs": []
    },
    {
      "cell_type": "code",
      "source": [],
      "metadata": {
        "id": "EIke2RGNujtj"
      },
      "execution_count": null,
      "outputs": []
    }
  ]
}